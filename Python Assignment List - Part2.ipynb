{
 "cells": [
  {
   "cell_type": "markdown",
   "metadata": {},
   "source": [
    "### Question 7:-\n",
    "Write the python program to let the user input a list of\n",
    "numbers and print the list in descending order."
   ]
  },
  {
   "cell_type": "markdown",
   "metadata": {},
   "source": [
    "### Answer 7 :-"
   ]
  },
  {
   "cell_type": "code",
   "execution_count": 16,
   "metadata": {},
   "outputs": [
    {
     "name": "stdout",
     "output_type": "stream",
     "text": [
      "Enter a list Elements seperated by space 1 2 10 12 14 16 15 4\n"
     ]
    }
   ],
   "source": [
    "input_string = input(\"Enter a list Elements seperated by space \")\n"
   ]
  },
  {
   "cell_type": "code",
   "execution_count": 17,
   "metadata": {},
   "outputs": [
    {
     "name": "stdout",
     "output_type": "stream",
     "text": [
      "This is the Original List: ['1', '2', '10', '12', '14', '16', '15', '4']\n",
      "<class 'list'>\n",
      "This is the List in descending Order: ['4', '2', '16', '15', '14', '12', '10', '1']\n"
     ]
    }
   ],
   "source": [
    "conv_to_list = input_string.split() #The split function would convert the String to List\n",
    "print(\"This is the Original List:\",conv_to_list)\n",
    "print(type(conv_to_list))\n",
    "conv_to_list.sort(reverse = True)  #To do sorting in descending Order\n",
    "print(\"This is the List in descending Order:\",conv_to_list)\n",
    "\n"
   ]
  },
  {
   "cell_type": "code",
   "execution_count": 21,
   "metadata": {},
   "outputs": [
    {
     "name": "stdout",
     "output_type": "stream",
     "text": [
      "Enter a List of Elements with spaces1 2 12 14 16 21 22 45\n",
      "Original Input in List Format  ['1', '2', '12', '14', '16', '21', '22', '45']\n",
      "After sorting the List  ['1', '12', '14', '16', '2', '21', '22', '45']\n",
      "After sorting again in Reverse order ['45', '22', '21', '2', '16', '14', '12', '1']\n"
     ]
    }
   ],
   "source": [
    "# This example is showing that sorting numbers normally or in descending order is not giving correct results:-\n",
    "# Approach 1:- Input List of numbers & print the List in descending order\n",
    "input_string1 = input(\"Enter a List of Elements with spaces\")\n",
    "conv_to_list1 = input_string1.split()\n",
    "print(\"Original Input in List Format \",conv_to_list1)\n",
    "conv_to_list1.sort() # Sorting \n",
    "print(\"After sorting the List \",conv_to_list1) # Check the Output even sorting is not working correctly \n",
    "conv_to_list1.sort(reverse=True) # Reverse sorting for sure would not work\n",
    "print(\"After sorting again in Reverse order\",conv_to_list1)"
   ]
  },
  {
   "cell_type": "code",
   "execution_count": 23,
   "metadata": {},
   "outputs": [
    {
     "name": "stdout",
     "output_type": "stream",
     "text": [
      "Enter a List of characters seperated by spacesa b e f g h i j\n",
      "Original Input in List Format  ['a', 'b', 'e', 'f', 'g', 'h', 'i', 'j']\n",
      "After sorting the List  ['a', 'b', 'e', 'f', 'g', 'h', 'i', 'j']\n",
      "After sorting again in Reverse order ['j', 'i', 'h', 'g', 'f', 'e', 'b', 'a']\n"
     ]
    }
   ],
   "source": [
    "#This example is showing that if you input character instead of number that works perfectly.\n",
    "# Approach 2:- Input List of numbers & print the List in descending order\n",
    "input_string2= input(\"Enter a List of characters seperated by spaces\")\n",
    "conv_to_list2 = input_string2.split()\n",
    "print(\"Original Input in List Format \",conv_to_list2)\n",
    "conv_to_list2.sort()\n",
    "print(\"After sorting the List \",conv_to_list2)\n",
    "conv_to_list2.sort(reverse=True)\n",
    "print(\"After sorting again in Reverse order\",conv_to_list2)\n"
   ]
  },
  {
   "cell_type": "code",
   "execution_count": null,
   "metadata": {},
   "outputs": [],
   "source": [
    "#Let's Try with sorted Function with Integers & this is working perfectly\n",
    "# Approach 2:- Input List of numbers & print the List in descending order\n",
    "input_string3 =input(\"Enter a List of Elements seperated by spaces\")\n",
    "conv_to_list3 = input_string3.split()\n",
    "sort_list3=sorted(conv_to_list3)\n",
    "sort_list3.sort(reverse=True)\n",
    "print(sort_list3)\n",
    "\n"
   ]
  },
  {
   "cell_type": "markdown",
   "metadata": {},
   "source": [
    "### Question 8\n",
    "8. Write the python program to let the user input two lists and\n",
    "combine both the lists.\n"
   ]
  },
  {
   "cell_type": "code",
   "execution_count": 28,
   "metadata": {},
   "outputs": [
    {
     "name": "stdout",
     "output_type": "stream",
     "text": [
      "Enter a List1 elements with spaces:Abhay Soniya Himanshu\n",
      "Enter a List2 elements with spaces:Yogesh Sunny\n",
      "Two List are appended using + Operator ['Abhay', 'Soniya', 'Himanshu', 'Yogesh', 'Sunny']\n",
      "Two List are appended using Extend function ['Abhay', 'Soniya', 'Himanshu', 'Yogesh', 'Sunny']\n"
     ]
    }
   ],
   "source": [
    "input_list1 = input(\"Enter a List1 elements with spaces:\")   # Take the Input string from User and Store it in variable input_list1\n",
    "input_list2 = input(\"Enter a List2 elements with spaces:\")   # Take the Input from User and Store it in variable input_list2\n",
    "\n",
    "\n",
    "conv_to_list1 = list(input_list1.split()); #Split function converts input_list1 String to List \n",
    "conv_to_list2 = list(input_list2.split()); #Split function converts String to List \n",
    "\n",
    "print(\"Two List are appended using + Operator\",conv_to_list1 + conv_to_list2) # Approach 1:  + Operator is used to combine 2 Lists\n",
    "conv_to_list1.extend(conv_to_list2) # Approach 2 : Extend can also be used to combine 2 Lists\n",
    "print(\"Two List are appended using Extend function\",conv_to_list1)\n"
   ]
  },
  {
   "cell_type": "code",
   "execution_count": null,
   "metadata": {},
   "outputs": [],
   "source": [
    " ### Question 9:-\n",
    "List = [10, 45, 78, 11, 9, 23]. Shuffle this list."
   ]
  },
  {
   "cell_type": "markdown",
   "metadata": {},
   "source": [
    "### Answer 9 :-"
   ]
  },
  {
   "cell_type": "code",
   "execution_count": 31,
   "metadata": {},
   "outputs": [],
   "source": [
    "List =[10,45,78,9,23]"
   ]
  },
  {
   "cell_type": "code",
   "execution_count": 33,
   "metadata": {},
   "outputs": [
    {
     "name": "stdout",
     "output_type": "stream",
     "text": [
      "Output of List before Shuffling:  [23, 9, 78, 45, 10]\n",
      "Output of List after Shuffling:   [45, 23, 9, 10, 78]\n"
     ]
    }
   ],
   "source": [
    "import random\n",
    "print(\"Output of List before Shuffling: \" ,List)\n",
    "random.shuffle(List)\n",
    "print(\"Output of List after Shuffling:  \",List)"
   ]
  },
  {
   "cell_type": "markdown",
   "metadata": {},
   "source": [
    "### Question 10\n",
    "x = [10, [3.141, 20, [30, 'baz', 2.718]], 'foo']\n",
    "i) What is the expression that returns the 'z' in 'baz'?\n",
    "ii) What expression returns the list ['baz', 2.718]?"
   ]
  },
  {
   "cell_type": "markdown",
   "metadata": {},
   "source": [
    "### Answer 10 :-"
   ]
  },
  {
   "cell_type": "code",
   "execution_count": 44,
   "metadata": {},
   "outputs": [
    {
     "name": "stdout",
     "output_type": "stream",
     "text": [
      " Original List :  [10, [3.141, 20, [30, 'baz', 2.718]], 'foo']\n",
      "[30, 'baz', 2.718]\n",
      "baz\n",
      "Output : The element is retrieved:  z\n"
     ]
    }
   ],
   "source": [
    "x = [10, [3.141, 20, [30, 'baz', 2.718]], 'foo']\n",
    "print(\" Original List : \",x);\n",
    "list_op = x[1]\n",
    "list_op1=list_op[2]\n",
    "print(list_op1)\n",
    "list_op2=list_op1[1]\n",
    "print(list_op2)\n",
    "list_to_string = str(list_op2)\n",
    "print(\"Output : The element is retrieved: \" ,list_to_string[2])\n",
    "\n"
   ]
  },
  {
   "cell_type": "markdown",
   "metadata": {},
   "source": [
    "### Question 11:-\n",
    "- Extract element 20 from the above list."
   ]
  },
  {
   "cell_type": "markdown",
   "metadata": {},
   "source": [
    "### Answer 11 :-\n"
   ]
  },
  {
   "cell_type": "code",
   "execution_count": 37,
   "metadata": {},
   "outputs": [
    {
     "name": "stdout",
     "output_type": "stream",
     "text": [
      "Original List :  [10, [3.141, 20, [30, 'baz', 2.718]], 'foo']\n",
      "By above expression the Item is extracted   20\n"
     ]
    }
   ],
   "source": [
    "x = [10, [3.141, 20, [30, 'baz', 2.718]], 'foo']\n",
    "print(\"Original List : \",x)\n",
    "list_output = x[1]\n",
    "print(\"By above expression the Item is extracted  \",list_output[1])"
   ]
  },
  {
   "cell_type": "code",
   "execution_count": null,
   "metadata": {},
   "outputs": [],
   "source": []
  }
 ],
 "metadata": {
  "kernelspec": {
   "display_name": "Python 3",
   "language": "python",
   "name": "python3"
  },
  "language_info": {
   "codemirror_mode": {
    "name": "ipython",
    "version": 3
   },
   "file_extension": ".py",
   "mimetype": "text/x-python",
   "name": "python",
   "nbconvert_exporter": "python",
   "pygments_lexer": "ipython3",
   "version": "3.8.3"
  }
 },
 "nbformat": 4,
 "nbformat_minor": 4
}
