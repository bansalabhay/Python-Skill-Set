{
 "cells": [
  {
   "cell_type": "markdown",
   "metadata": {},
   "source": [
    "### Question1 :-\n",
    "-Write a Python program to add an item in a tuple."
   ]
  },
  {
   "cell_type": "markdown",
   "metadata": {},
   "source": [
    "### Answer1 :-"
   ]
  },
  {
   "cell_type": "code",
   "execution_count": 1,
   "metadata": {},
   "outputs": [
    {
     "name": "stdout",
     "output_type": "stream",
     "text": [
      "(1, 2, 3, 4, 5, 6, 1)\n"
     ]
    }
   ],
   "source": [
    "#Tuples are immutable and hence we cannot add an Item in a Tuple.\n",
    "\n",
    "# We can create a new Tuple by adding 2 tuples but this would result in a new Tuple but the original one remains the same\n",
    "tup1 = (1,2,3,4,5,6)\n",
    "tup2 = (1,)\n",
    "tup3 =tup1+tup2\n",
    "print(tup3)"
   ]
  },
  {
   "cell_type": "markdown",
   "metadata": {},
   "source": [
    "### Question 2: \n",
    "- Write a Python program to reverse a tuple."
   ]
  },
  {
   "cell_type": "markdown",
   "metadata": {},
   "source": [
    "### Answer 2: "
   ]
  },
  {
   "cell_type": "code",
   "execution_count": 2,
   "metadata": {},
   "outputs": [
    {
     "name": "stdout",
     "output_type": "stream",
     "text": [
      "This is the Original Tuple :  (1, 2, 3, 4, 5, 6)\n",
      "This is the Reverse Tuple :  (6, 5, 4, 3, 2, 1)\n"
     ]
    }
   ],
   "source": [
    "input_tup = (1,2,3,4,5,6)\n",
    "reverse_tup = input_tup[::-1]  # Approach1 : Using indexing & slicing Tuples can be reversed\n",
    "\n",
    "print(\"This is the Original Tuple : \" , input_tup)\n",
    "print(\"This is the Reverse Tuple : \" , reverse_tup)"
   ]
  },
  {
   "cell_type": "code",
   "execution_count": 3,
   "metadata": {},
   "outputs": [
    {
     "name": "stdout",
     "output_type": "stream",
     "text": [
      "This is the Original Tuple :  (1, 2, 3, 4, 5, 6)\n",
      "This is the Reverse Tuple: (6, 5, 4, 3, 2, 1)\n"
     ]
    }
   ],
   "source": [
    "input_tup1 = (1,2,3,4,5,6)   # Approach2 : Convert Tuples to list & then use reverse function\n",
    "con_to_list = list(input_tup1)\n",
    "con_to_list.reverse()\n",
    "reverse_tup1 = tuple(con_to_list)\n",
    "print(\"This is the Original Tuple : \" , input_tup1)\n",
    "print(\"This is the Reverse Tuple:\" ,reverse_tup1)\n",
    "\n",
    "    "
   ]
  },
  {
   "cell_type": "markdown",
   "metadata": {},
   "source": [
    "### Question 3: -\n",
    "- Swap the following two tuples\n",
    "- tuple1 = (11, 22)\n",
    "- tuple2 = (99, 88)"
   ]
  },
  {
   "cell_type": "code",
   "execution_count": 4,
   "metadata": {},
   "outputs": [
    {
     "name": "stdout",
     "output_type": "stream",
     "text": [
      "Now the Tuple 1 is Swapped with Tuple2 (99, 88)\n",
      "Now the Tuple2 is Swapped with Tuple1 (11, 22)\n"
     ]
    }
   ],
   "source": [
    "tuple1 = (11,22)  # Approach 1 : By Copying the Tuples the Numbers can be swapped\n",
    "tuple2 = (99,88)\n",
    "copy_tuple1 = () # Create an empty Tuple\n",
    "type(copy_tuple1)\n",
    "\n",
    "copy_tuple1 = tuple1  # Assign the Tuple to copy_tuple1\n",
    "tuple1 = tuple2  # Assign Tuple2 to Tuple1\n",
    "tuple2 = copy_tuple1  # Assign Copy of Tuple to Tuple2\n",
    "\n",
    "print(\"Now the Tuple 1 is Swapped with Tuple2\",tuple1)\n",
    "print(\"Now the Tuple2 is Swapped with Tuple1\",tuple2)\n",
    "\n",
    "\n"
   ]
  },
  {
   "cell_type": "markdown",
   "metadata": {},
   "source": [
    " ### Question 4 :-\n",
    "    \n",
    "- Modify the first item (22) of a list inside a following tuple to 222\n",
    "- tuple1 = (11, [22, 33], 44, 55)"
   ]
  },
  {
   "cell_type": "code",
   "execution_count": 1,
   "metadata": {},
   "outputs": [
    {
     "name": "stdout",
     "output_type": "stream",
     "text": [
      "After modifying the Tuple (11, [222, 33], 44, 55)\n"
     ]
    }
   ],
   "source": [
    "tuple1 = (11, [22, 33], 44, 55)  # Approach1 : This is the Original List\n",
    "con_tup_to_list = list(tuple1)\n",
    "con_tup_to_list[1][0] = 222\n",
    "print(\"After modifying the Tuple\",tuple1)"
   ]
  },
  {
   "cell_type": "code",
   "execution_count": 14,
   "metadata": {},
   "outputs": [
    {
     "name": "stdout",
     "output_type": "stream",
     "text": [
      "[11, [22, 33], 44, 55]\n",
      "[22, 33]\n",
      "[222, 33]\n",
      "The original item i the Tuple is  (11, [222, 33], 44, 55)\n",
      "The modified item in the Tuple is  (11, [222, 33], 44, 55)\n"
     ]
    }
   ],
   "source": [
    "tuple1 = (11,[22,33],44,55)  #Approach2\n",
    "con_to_list1 = list(tuple1)\n",
    "print(con_to_list1)\n",
    "con_store = con_to_list1[1]\n",
    "print(con_store)\n",
    "con_store[0]= 222\n",
    "print(con_store)\n",
    "\n",
    "print(\"The original item i the Tuple is \" , tuple1)\n",
    "print(\"The modified item in the Tuple is \", tuple(con_to_list1))\n",
    "\n"
   ]
  },
  {
   "cell_type": "markdown",
   "metadata": {},
   "source": [
    "### Question 5: \n",
    "-Write a Python program to unpack a tuple in several variables"
   ]
  },
  {
   "cell_type": "markdown",
   "metadata": {},
   "source": [
    "### Answer 5 :"
   ]
  },
  {
   "cell_type": "code",
   "execution_count": 65,
   "metadata": {},
   "outputs": [
    {
     "name": "stdout",
     "output_type": "stream",
     "text": [
      "1 2 3 4 5\n"
     ]
    }
   ],
   "source": [
    "num_tuple =(1,2,3,4,5) #Approach 1\n",
    "var1 = num_tuple[0]\n",
    "var2 = num_tuple[1]\n",
    "var3 = num_tuple[2]\n",
    "var4 = num_tuple[3]\n",
    "var5 = num_tuple[4]\n",
    "print(var1,var2,var3,var4,var5)"
   ]
  },
  {
   "cell_type": "code",
   "execution_count": 61,
   "metadata": {},
   "outputs": [
    {
     "name": "stdout",
     "output_type": "stream",
     "text": [
      "1 2 3 4 5\n"
     ]
    }
   ],
   "source": [
    "var1,var2,var3,var4,var5 = num_tuple   # Approach2 : This can also be done in a single Line\n",
    "print(var1,var2,var3,var4,var5)"
   ]
  },
  {
   "cell_type": "markdown",
   "metadata": {},
   "source": [
    "### Question 6 :-\n",
    "- Write a Python program to add member(s) in an empty set."
   ]
  },
  {
   "cell_type": "markdown",
   "metadata": {},
   "source": [
    "### Answer 6 :-"
   ]
  },
  {
   "cell_type": "code",
   "execution_count": 15,
   "metadata": {},
   "outputs": [
    {
     "name": "stdout",
     "output_type": "stream",
     "text": [
      "<class 'set'>\n",
      "{1}\n"
     ]
    }
   ],
   "source": [
    "empty_set = set()  # Approach1 : Empty set can be defined like this.\n",
    "print(type(empty_set)) \n",
    "empty_set.add(1) # Add Function adds the element in the set\n",
    "\n",
    "print(empty_set)"
   ]
  },
  {
   "cell_type": "markdown",
   "metadata": {},
   "source": [
    "### Question 7 :-\n",
    "- Write a Python program to create an intersection of sets\n"
   ]
  },
  {
   "cell_type": "code",
   "execution_count": 3,
   "metadata": {},
   "outputs": [
    {
     "name": "stdout",
     "output_type": "stream",
     "text": [
      "{3, 5, 6, 7, 8}\n"
     ]
    }
   ],
   "source": [
    "### Answer 7 :-\n",
    "\n",
    "set1 = {1,2,3,5,6,7,8,9,10}\n",
    "set2 = {3,4,5,6,7,8,12,13}\n",
    "\n",
    "print(set1.intersection(set2))"
   ]
  },
  {
   "cell_type": "markdown",
   "metadata": {},
   "source": [
    "### Question 8 :- \n",
    "- Write a Python program to create a symmetric difference\n",
    "in sets."
   ]
  },
  {
   "cell_type": "code",
   "execution_count": 4,
   "metadata": {},
   "outputs": [
    {
     "name": "stdout",
     "output_type": "stream",
     "text": [
      "{1, 2, 3, 5, 6, 7, 8, 9, 10}\n",
      "{3, 4, 5, 6, 7, 8, 12, 13}\n"
     ]
    }
   ],
   "source": [
    "#Answer 8 :-\n",
    "print(set1)\n",
    "print(set2)"
   ]
  },
  {
   "cell_type": "code",
   "execution_count": 5,
   "metadata": {},
   "outputs": [
    {
     "name": "stdout",
     "output_type": "stream",
     "text": [
      "{1, 2, 4, 9, 10, 12, 13}\n"
     ]
    }
   ],
   "source": [
    "#The symmetric difference of two sets A and B is the set of elements that are in either A or B ,\n",
    "#but not in their intersection.\n",
    "\n",
    "print(set1.symmetric_difference(set2))  "
   ]
  },
  {
   "cell_type": "markdown",
   "metadata": {},
   "source": [
    "### Question 9 :- Return a set of identical items from a given two Python\n",
    "\n",
    "- set1 = [10, 20, 30, 40, 50]\n",
    "\n",
    "- set2 = [30, 40, 50, 60, 70]"
   ]
  },
  {
   "cell_type": "markdown",
   "metadata": {},
   "source": [
    "### Answer 9 :-"
   ]
  },
  {
   "cell_type": "code",
   "execution_count": 25,
   "metadata": {},
   "outputs": [
    {
     "name": "stdout",
     "output_type": "stream",
     "text": [
      "The identical items in the List are : {40, 50, 30}\n"
     ]
    }
   ],
   "source": [
    "set1 = {10,20,30,40,50}\n",
    "set2 = {30,40,50,60,70}\n",
    "print(\"The identical items in the List are :\",set1.intersection(set2))\n"
   ]
  },
  {
   "cell_type": "markdown",
   "metadata": {},
   "source": [
    "### Question10 :-\n",
    "- Remove 10, 20, 30 elements from a following set atonce\n",
    "- set1 = {10, 20, 30, 40, 50}"
   ]
  },
  {
   "cell_type": "markdown",
   "metadata": {},
   "source": [
    "### Answer 10 :-"
   ]
  },
  {
   "cell_type": "code",
   "execution_count": 52,
   "metadata": {},
   "outputs": [
    {
     "name": "stdout",
     "output_type": "stream",
     "text": [
      "[10, 20, 30, 40, 50]\n",
      "{40, 50}\n"
     ]
    }
   ],
   "source": [
    "set1 = {10,20,30,40,50}\n",
    "con_to_list = list(set1)\n",
    "con_to_list.sort()\n",
    "print(con_to_list)\n",
    "k =(con_to_list[3:])\n",
    "print(set(k))\n",
    "\n",
    "        "
   ]
  },
  {
   "cell_type": "markdown",
   "metadata": {},
   "source": [
    "### Question 11:-\n",
    "- Access value 20 from the following tuple\n",
    "- example = (\"Pooja\", [10, 20, 30], (25, 50, 15))"
   ]
  },
  {
   "cell_type": "markdown",
   "metadata": {},
   "source": [
    "### Answer 11 :-"
   ]
  },
  {
   "cell_type": "code",
   "execution_count": 55,
   "metadata": {},
   "outputs": [
    {
     "name": "stdout",
     "output_type": "stream",
     "text": [
      "The Value of Tuple can be extracted directly like this :  20\n"
     ]
    }
   ],
   "source": [
    "example =  (\"Pooja\", [10, 20, 30], (25, 50, 15))\n",
    "print(\"The Value of Tuple can be extracted directly like this : \",example[1][1])\n"
   ]
  },
  {
   "cell_type": "markdown",
   "metadata": {},
   "source": [
    "### Question 12:-\n",
    "- Count the number of occurrences of item 50 from a tuple numbers = (50, 10, 60, 70, 50)"
   ]
  },
  {
   "cell_type": "markdown",
   "metadata": {},
   "source": [
    "### Answer 12 :-"
   ]
  },
  {
   "cell_type": "code",
   "execution_count": 57,
   "metadata": {},
   "outputs": [
    {
     "name": "stdout",
     "output_type": "stream",
     "text": [
      "The Total number of occurences of 50 are :  2\n"
     ]
    }
   ],
   "source": [
    "numbers = (50,10,60,70,50)\n",
    "print(\"The Total number of occurences of 50 are : \",numbers.count(50))"
   ]
  },
  {
   "cell_type": "code",
   "execution_count": null,
   "metadata": {},
   "outputs": [],
   "source": []
  }
 ],
 "metadata": {
  "kernelspec": {
   "display_name": "Python 3",
   "language": "python",
   "name": "python3"
  },
  "language_info": {
   "codemirror_mode": {
    "name": "ipython",
    "version": 3
   },
   "file_extension": ".py",
   "mimetype": "text/x-python",
   "name": "python",
   "nbconvert_exporter": "python",
   "pygments_lexer": "ipython3",
   "version": "3.8.3"
  }
 },
 "nbformat": 4,
 "nbformat_minor": 4
}
