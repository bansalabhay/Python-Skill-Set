{
 "cells": [
  {
   "cell_type": "markdown",
   "metadata": {},
   "source": [
    "### Question 1\n",
    "Define different types of variables (integer, boolean,\n",
    "string, float, complex) and print their values and their\n",
    "types"
   ]
  },
  {
   "cell_type": "code",
   "execution_count": null,
   "metadata": {},
   "outputs": [],
   "source": [
    "### Answer 1:-"
   ]
  },
  {
   "cell_type": "code",
   "execution_count": 33,
   "metadata": {},
   "outputs": [
    {
     "name": "stdout",
     "output_type": "stream",
     "text": [
      "1\n",
      "<class 'int'>\n",
      "True\n",
      "<class 'bool'>\n",
      "Abhay\n",
      "<class 'str'>\n",
      "2.46\n",
      "<class 'float'>\n",
      "(2+3j)\n",
      "<class 'complex'>\n"
     ]
    }
   ],
   "source": [
    "# Let's do it with different Approach\n",
    "\n",
    "def_int = 1\n",
    "def_bool = True\n",
    "def_string = \"Abhay\"\n",
    "def_float = 2.46\n",
    "def_complex = 2+3j\n",
    "print(def_int)   # Print the Integer Value\n",
    "print(type(def_int)) # Print the Type of Variable\n",
    "\n",
    "print(def_bool) # Print the Boolean Value\n",
    "print(type(def_bool)) #Print the Type of Variable\n",
    "\n",
    "print(def_string)      # Print the String Value\n",
    "print(type(def_string)) #Print the Type of Variable\n",
    "\n",
    "\n",
    "print(def_float)       # Print the Float Value\n",
    "print(type(def_float)) #Print the Type of Variable\n",
    "\n",
    "print(def_complex)      #Print the Complex Numbers\n",
    "print(type(def_complex)) # Print the Type of Variable"
   ]
  },
  {
   "cell_type": "markdown",
   "metadata": {},
   "source": [
    "### Question 2:-\n",
    "In the above question convert float variable into integer\n",
    "type and integer variable into str type."
   ]
  },
  {
   "cell_type": "markdown",
   "metadata": {},
   "source": [
    "### Answer 2 :-"
   ]
  },
  {
   "cell_type": "code",
   "execution_count": 36,
   "metadata": {},
   "outputs": [
    {
     "name": "stdout",
     "output_type": "stream",
     "text": [
      "2.46\n",
      "<class 'float'>\n"
     ]
    }
   ],
   "source": [
    "\n",
    "print(def_float)     # Prints the Float Value\n",
    "print(type(def_float)) # Print the Type of Varibale "
   ]
  },
  {
   "cell_type": "code",
   "execution_count": 38,
   "metadata": {},
   "outputs": [
    {
     "name": "stdout",
     "output_type": "stream",
     "text": [
      "2\n",
      "<class 'int'>\n"
     ]
    }
   ],
   "source": [
    "conver_to_int = int(def_float) # Conversion from Float to Integer\n",
    "print(conver_to_int)\n",
    "print(type(conver_to_int))"
   ]
  },
  {
   "cell_type": "code",
   "execution_count": 39,
   "metadata": {},
   "outputs": [
    {
     "name": "stdout",
     "output_type": "stream",
     "text": [
      "1\n",
      "<class 'int'>\n"
     ]
    }
   ],
   "source": [
    "print(def_int)  # Prints the Integer Value\n",
    "print(type(def_int))  #Print the Type of Variable"
   ]
  },
  {
   "cell_type": "code",
   "execution_count": 40,
   "metadata": {},
   "outputs": [
    {
     "name": "stdout",
     "output_type": "stream",
     "text": [
      "1\n",
      "<class 'str'>\n"
     ]
    }
   ],
   "source": [
    "conver_to_str = str(def_int) # Conversion from Integer to String\n",
    "print(conver_to_str)\n",
    "print(type(conver_to_str))"
   ]
  },
  {
   "cell_type": "markdown",
   "metadata": {},
   "source": [
    "### Question 3:-\n",
    "What will you get converting “abc” into boolean ?"
   ]
  },
  {
   "cell_type": "markdown",
   "metadata": {},
   "source": [
    "### Answer 3 :- "
   ]
  },
  {
   "cell_type": "code",
   "execution_count": 43,
   "metadata": {},
   "outputs": [
    {
     "name": "stdout",
     "output_type": "stream",
     "text": [
      "abc\n"
     ]
    }
   ],
   "source": [
    "string = \"abc\"\n",
    "print(string)\n"
   ]
  },
  {
   "cell_type": "code",
   "execution_count": 44,
   "metadata": {},
   "outputs": [
    {
     "name": "stdout",
     "output_type": "stream",
     "text": [
      "True\n"
     ]
    }
   ],
   "source": [
    "conv_str_bool = bool(string)  # Conversion from String to Boolean\n",
    "print(conv_str_bool) # When Converted to Boolean Result is \"True\""
   ]
  },
  {
   "cell_type": "markdown",
   "metadata": {},
   "source": [
    "### Question 4 :-\n",
    "- Print the substring from index 2 to index 4 for any given\n",
    "string. For example (llo) from “Hello World”"
   ]
  },
  {
   "cell_type": "markdown",
   "metadata": {},
   "source": [
    "### Answer 4 :-"
   ]
  },
  {
   "cell_type": "code",
   "execution_count": 46,
   "metadata": {},
   "outputs": [
    {
     "name": "stdout",
     "output_type": "stream",
     "text": [
      "llo\n"
     ]
    }
   ],
   "source": [
    "string_index = \"Hello World\"\n",
    "print(string_index[2:5]) # Index helps in printing the Desired Result"
   ]
  },
  {
   "cell_type": "markdown",
   "metadata": {},
   "source": [
    "### Question 5 :- \n",
    "- Write a program to check a substring in a given string.\n",
    "For example 'e' is present in the word 'Umbrella'"
   ]
  },
  {
   "cell_type": "markdown",
   "metadata": {},
   "source": [
    "### Answer 5 :-"
   ]
  },
  {
   "cell_type": "code",
   "execution_count": 60,
   "metadata": {},
   "outputs": [
    {
     "name": "stdout",
     "output_type": "stream",
     "text": [
      "E is present in the Word Umbrella\n"
     ]
    }
   ],
   "source": [
    "check_string = \"Umbrella\"\n",
    "if check_string[4] == 'e':  # Checking the given string in the Word\n",
    "    print(\"E is present in the Word Umbrella\")\n",
    "else:\n",
    "    print(\"E is not present in the World Umbrella\")\n",
    "\n"
   ]
  },
  {
   "cell_type": "markdown",
   "metadata": {},
   "source": [
    "### Question 6:- \n",
    "- Use the correct comparison operator to check if 5 is not\n",
    "equal to 10."
   ]
  },
  {
   "cell_type": "code",
   "execution_count": 61,
   "metadata": {},
   "outputs": [
    {
     "data": {
      "text/plain": [
       "True"
      ]
     },
     "execution_count": 61,
     "metadata": {},
     "output_type": "execute_result"
    }
   ],
   "source": [
    "5 != 10  # != Operator can be used for comparison"
   ]
  },
  {
   "cell_type": "markdown",
   "metadata": {},
   "source": [
    "### Question 7 :- \n",
    "-Write a program to get a string from the user and sort the words of the string in alphabetical order."
   ]
  },
  {
   "cell_type": "markdown",
   "metadata": {},
   "source": [
    "### Anwer 7:-"
   ]
  },
  {
   "cell_type": "code",
   "execution_count": 46,
   "metadata": {},
   "outputs": [
    {
     "name": "stdout",
     "output_type": "stream",
     "text": [
      " Enter any String:AbhayBansal\n",
      "The original String: AbhayBansal\n",
      "The sorted String would look like: ABaaabhlnsy\n"
     ]
    }
   ],
   "source": [
    "value=input(\" Enter any String:\") # This particular statement would ask for the User Input\n",
    "print(\"The original String:\",value)\n",
    "conv_to_list = list(value)\n",
    "conv_to_list.sort()   # Sorting the List using Sort Function\n",
    "conv_to_string = ''.join(conv_to_list) # Join to Convert a List back to String\n",
    "\n",
    "print(\"The sorted String would look like:\" ,conv_to_string)\n",
    "\n",
    "\n",
    "\n",
    "\n"
   ]
  },
  {
   "cell_type": "markdown",
   "metadata": {},
   "source": [
    "### Question 8 :-\n",
    "- Join two words using special characters like ‘ – ‘ ,’#’"
   ]
  },
  {
   "cell_type": "markdown",
   "metadata": {},
   "source": [
    "### Answer 8 :-"
   ]
  },
  {
   "cell_type": "code",
   "execution_count": 4,
   "metadata": {},
   "outputs": [
    {
     "name": "stdout",
     "output_type": "stream",
     "text": [
      "Abhay-#Soniya\n"
     ]
    }
   ],
   "source": [
    "word_1 = \"Abhay\"\n",
    "word_2 = \"Soniya\"\n",
    "\n",
    "print(word_1 + \"-\" + \"#\" + word_2) # + Operator can be used or append"
   ]
  },
  {
   "cell_type": "markdown",
   "metadata": {},
   "source": [
    "### Question 9 :-\n",
    "-Find all occurrences of “INDIA” in a given string ignoring the case.\n",
    "input_str = \"Welcome to INDIA. india is awesome."
   ]
  },
  {
   "cell_type": "markdown",
   "metadata": {},
   "source": [
    "### Answer 9:-"
   ]
  },
  {
   "cell_type": "code",
   "execution_count": 14,
   "metadata": {},
   "outputs": [
    {
     "name": "stdout",
     "output_type": "stream",
     "text": [
      "Total Number of Ocuurence of INDIA:  2\n"
     ]
    }
   ],
   "source": [
    "# Approach 1 :-\n",
    "input_str = \"Welcome to INDIA. india is awesome.\"\n",
    "print(\"Total Number of Ocuurence of INDIA: \",input_str.upper().count(\"INDIA\")  )"
   ]
  },
  {
   "cell_type": "code",
   "execution_count": 10,
   "metadata": {},
   "outputs": [
    {
     "name": "stdout",
     "output_type": "stream",
     "text": [
      "welcome to india. india is awesome.\n"
     ]
    },
    {
     "data": {
      "text/plain": [
       "2"
      ]
     },
     "execution_count": 10,
     "metadata": {},
     "output_type": "execute_result"
    }
   ],
   "source": [
    "#Approach 2 :-\n",
    "input_str = \"Welcome to INDIA. india is awesome.\"\n",
    "input_upper_str = input_str.upper()\n",
    "print(input_lower_str)\n",
    "input_upper_str.count(\"INDIA\")  # There are 2 time INDIA"
   ]
  },
  {
   "cell_type": "markdown",
   "metadata": {},
   "source": [
    "### Question 10 :-\n",
    "- Replace first two ‘l’ with ‘n’ in ‘Hello World’"
   ]
  },
  {
   "cell_type": "markdown",
   "metadata": {},
   "source": [
    "### Answer 10 :-"
   ]
  },
  {
   "cell_type": "code",
   "execution_count": 23,
   "metadata": {},
   "outputs": [
    {
     "name": "stdout",
     "output_type": "stream",
     "text": [
      "After Replacing the result is : Henno World\n",
      "After Replacing the result is : Heno World\n"
     ]
    }
   ],
   "source": [
    "word = \"Hello World\"\n",
    "print(\"After Replacing the result is :\",word.replace(\"ll\",\"nn\") )# As i understood I need to replace 2 'l' with 2 'n'\n",
    "print(\"After Replacing the result is :\",word.replace(\"ll\",\"n\") )# If 2 'l' needs to be replaced by single l then\n"
   ]
  },
  {
   "cell_type": "markdown",
   "metadata": {},
   "source": [
    "### Question 11:-\n",
    "- Write a program that takes your full name as input and displays the abbreviations of the first and middle names\n",
    "except the last name which is displayed as it is. For example, if your name is Robert Brett Roser, then the\n",
    "output should be R.B.Roser."
   ]
  },
  {
   "cell_type": "markdown",
   "metadata": {},
   "source": [
    "### Answer 11 :-"
   ]
  },
  {
   "cell_type": "code",
   "execution_count": 5,
   "metadata": {},
   "outputs": [
    {
     "name": "stdout",
     "output_type": "stream",
     "text": [
      "Enter Your Full Name : Reyansh Abhay Bansal\n"
     ]
    }
   ],
   "source": [
    "full_name =input(\"Enter Your Full Name : \" )\n",
    "seperate_name = full_name.split()"
   ]
  },
  {
   "cell_type": "code",
   "execution_count": 6,
   "metadata": {},
   "outputs": [
    {
     "name": "stdout",
     "output_type": "stream",
     "text": [
      "['Reyansh', 'Abhay', 'Bansal']\n",
      "Reyansh\n",
      "Abhay\n",
      "Bansal\n",
      "R.A.Bansal\n"
     ]
    }
   ],
   "source": [
    "print(seperate_name)\n",
    "name1=str(seperate_name[0])\n",
    "name2=str(seperate_name[1])\n",
    "name3=str(seperate_name[2])\n",
    "print(name1)\n",
    "print(name2)\n",
    "print(name3)\n",
    "print(name1[0]+\".\"+name2[0]+\".\"+name3)"
   ]
  },
  {
   "cell_type": "markdown",
   "metadata": {},
   "source": [
    "### Question 12:-\n",
    "-Write a program to check if a given string is a Palindrome. A palindrome reads the same from front and back e.g.-\n",
    "aba, ccaacc, mom, etc.\n"
   ]
  },
  {
   "cell_type": "markdown",
   "metadata": {},
   "source": [
    "### Answer 12:-"
   ]
  },
  {
   "cell_type": "code",
   "execution_count": 26,
   "metadata": {},
   "outputs": [
    {
     "name": "stdout",
     "output_type": "stream",
     "text": [
      "ccaacc\n",
      "String is Palindrome\n"
     ]
    }
   ],
   "source": [
    "# This is Approach1  where through Index of the String , The number is checked if its palindrome or not\n",
    "\n",
    "str_palindrome = \"ccaacc\"  \n",
    "rev_str = str_palindrome[::-1]\n",
    "print(rev_str)\n",
    "\n",
    "if str_palindrome == rev_str:\n",
    "    print(\"String is Palindrome\")\n",
    "else:\n",
    "    print(\"String is not Palindrome\")\n",
    "\n"
   ]
  },
  {
   "cell_type": "code",
   "execution_count": 22,
   "metadata": {},
   "outputs": [
    {
     "name": "stdout",
     "output_type": "stream",
     "text": [
      "['c', 'c', 'a', 'a', 'c', 'c']\n",
      "['c', 'c', 'a', 'a', 'c', 'c']\n",
      "The String is Palindrome\n"
     ]
    }
   ],
   "source": [
    "# This is Approach2 where Strings are converted to list & then comparison has been made.\n",
    "\n",
    "str1_pal ='ccaacc'\n",
    "str2_pal = str1_pal\n",
    "\n",
    "list_1 = list(str1_pal)\n",
    "list_2 = list(str2_pal)\n",
    "\n",
    "print(list_1)\n",
    "print(list_2)\n",
    "\n",
    "list_2.reverse()\n",
    "\n",
    "if list_1 == list_2:\n",
    "    print(\"The String is Palindrome\")\n",
    "else:\n",
    "    print(\"The String is not Palindrome\")\n",
    "\n",
    "\n",
    "\n",
    "\n",
    "\n",
    "\n",
    "\n",
    "\n",
    "\n"
   ]
  },
  {
   "cell_type": "code",
   "execution_count": null,
   "metadata": {},
   "outputs": [],
   "source": []
  }
 ],
 "metadata": {
  "kernelspec": {
   "display_name": "Python 3",
   "language": "python",
   "name": "python3"
  },
  "language_info": {
   "codemirror_mode": {
    "name": "ipython",
    "version": 3
   },
   "file_extension": ".py",
   "mimetype": "text/x-python",
   "name": "python",
   "nbconvert_exporter": "python",
   "pygments_lexer": "ipython3",
   "version": "3.8.3"
  }
 },
 "nbformat": 4,
 "nbformat_minor": 4
}
