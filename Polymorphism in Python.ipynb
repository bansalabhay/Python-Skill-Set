{
 "cells": [
  {
   "cell_type": "markdown",
   "metadata": {},
   "source": [
    "#### Polymorphism in Operator - Addition"
   ]
  },
  {
   "cell_type": "code",
   "execution_count": 1,
   "metadata": {},
   "outputs": [
    {
     "name": "stdout",
     "output_type": "stream",
     "text": [
      "15\n"
     ]
    }
   ],
   "source": [
    "# Case 1 : When Data Types are Integers\n",
    "num_1 = 5\n",
    "num_2 = 10\n",
    "\n",
    "print(num_1+num_2)  # For Integer Data Types \"+\" Operator is used to perform Arithmetic Addition Operation"
   ]
  },
  {
   "cell_type": "code",
   "execution_count": 2,
   "metadata": {},
   "outputs": [
    {
     "name": "stdout",
     "output_type": "stream",
     "text": [
      "Abhay Bansal\n"
     ]
    }
   ],
   "source": [
    "# Case 2 : When Data Types are Strings\n",
    "str_1 = \"Abhay\"\n",
    "str_2 = \"Bansal\"\n",
    "\n",
    "print(str_1+\" \"+str_2) # For String Data Types \"+\" Operator is used to perform Concatenation\n"
   ]
  },
  {
   "cell_type": "markdown",
   "metadata": {},
   "source": [
    "#### Polymorphism in inbuilt Function - len()"
   ]
  },
  {
   "cell_type": "code",
   "execution_count": 4,
   "metadata": {},
   "outputs": [
    {
     "name": "stdout",
     "output_type": "stream",
     "text": [
      "Length when String : 6\n",
      "Length when List: 3\n",
      "Length when Dictionary: 2\n"
     ]
    }
   ],
   "source": [
    "print(\"Length when String :\",len(\"Python\"))\n",
    "print(\"Length when List:\",len([\"DataScience\",\"AI\",\"ML\"]))\n",
    "print(\"Length when Dictionary:\",len({\"Name\":\"Abhay\",\"City\":\"Pune\"}))"
   ]
  },
  {
   "cell_type": "markdown",
   "metadata": {},
   "source": [
    "#### Approaches - Calculate Area"
   ]
  },
  {
   "cell_type": "code",
   "execution_count": 6,
   "metadata": {},
   "outputs": [],
   "source": [
    "# Consider we need to calculate the Area of Rectangle & Square"
   ]
  },
  {
   "cell_type": "code",
   "execution_count": 1,
   "metadata": {},
   "outputs": [
    {
     "name": "stdout",
     "output_type": "stream",
     "text": [
      "The Area of Rectangle is :  8\n",
      "The Area of Square is :  16\n"
     ]
    }
   ],
   "source": [
    "# Approach1 :- Create Different Classes with different functions for area of Rectangle & Square\n",
    "\n",
    "class Rectangle:\n",
    "    def calculate_area_rect(self,length,breadth):\n",
    "        self.length=length\n",
    "        self.breadth=breadth\n",
    "        return (self.length*self.breadth)\n",
    "\n",
    "class Square:\n",
    "    def calculate_area_squar(self,side):\n",
    "        self.side=side\n",
    "        return(self.side*self.side)\n",
    "\n",
    "# Instantiating a Class or creating an Object\n",
    "\n",
    "obj_rect = Rectangle()  # Instance of Class Rectangle\n",
    "obj_squar = Square()    # Instance of Class Square\n",
    "\n",
    "obj_rect.calculate_area_rect(2,4)\n",
    "obj_squar.calculate_area_squar(2)\n",
    "\n",
    "# In this Approach the the area function for different classes needs to be remembered by \n",
    "# and developer and this cannot be Polymorphism\n",
    "\n",
    "print(\"The Area of Rectangle is : \",obj_rect.calculate_area_rect(2,4))\n",
    "\n",
    "print(\"The Area of Square is : \",obj_squar.calculate_area_squar(4))\n",
    "\n",
    "\n",
    "\n",
    "    \n",
    "    "
   ]
  },
  {
   "cell_type": "code",
   "execution_count": 8,
   "metadata": {},
   "outputs": [
    {
     "name": "stdout",
     "output_type": "stream",
     "text": [
      "The Area of Rectangle is :  8\n",
      "The Area of Square is :  16\n"
     ]
    }
   ],
   "source": [
    "# Approach 2 :- Create Different Classes with same functions name  for calculating area of Rectangle & Square\n",
    "\n",
    "class Rectangle:\n",
    "    def calculate_area(self,length,breadth):\n",
    "        self.length=length\n",
    "        self.breadth=breadth\n",
    "        return (self.length*self.breadth)\n",
    "\n",
    "class Square:\n",
    "    def calculate_area(self,side):\n",
    "        self.side=side\n",
    "        return(self.side*self.side)\n",
    "\n",
    "# Instantiating a Class or creating an Object\n",
    "\n",
    "obj_rect = Rectangle()  # Instance of Class Rectangle\n",
    "obj_squar = Square()    # Instance of Class Square\n",
    "\n",
    "obj_rect.calculate_area(2,4)\n",
    "obj_squar.calculate_area(2)\n",
    "\n",
    "# In this Approach  the area function remains the same, but the since the Objects are unique to different Classes - \n",
    "# The Type of Object will help in resolving the call to the function\n",
    "\n",
    "print(\"The Area of Rectangle is : \",obj_rect.calculate_area(2,4))\n",
    "\n",
    "print(\"The Area of Square is : \",obj_squar.calculate_area(4))\n"
   ]
  },
  {
   "cell_type": "markdown",
   "metadata": {},
   "source": [
    "#### Polymorphism with Class Methods:-\n"
   ]
  },
  {
   "cell_type": "code",
   "execution_count": 3,
   "metadata": {},
   "outputs": [
    {
     "name": "stdout",
     "output_type": "stream",
     "text": [
      "6\n",
      "4\n"
     ]
    }
   ],
   "source": [
    "#Approach 3cl :- Polymorphism with Class Method \n",
    "\n",
    "class Rectangle:\n",
    "    def __init__(self,length,breadth):\n",
    "        self.length=length\n",
    "        self.breadth=breadth\n",
    "        \n",
    "    def cal_area(self):\n",
    "        return (self.length*self.breadth)\n",
    "\n",
    "class Square:\n",
    "    def __init__(self,side):\n",
    "        self.side = side\n",
    "        \n",
    "    def cal_area(self):\n",
    "        return(self.side*self.side)\n",
    "\n",
    "# Instantiating a Class or creating an Object\n",
    "\n",
    "obj_rect = Rectangle(2,3)  # Instance of Class Rectangle\n",
    "obj_squar = Square(2)    # Instance of Class Square\n",
    "\n",
    "# This is a better example of Ploymorphism as now 2 different objects are treated as just as an Object\n",
    "for obj in(obj_rect,obj_squar):\n",
    "         print(obj.cal_area())\n"
   ]
  },
  {
   "cell_type": "markdown",
   "metadata": {},
   "source": [
    "#### Polymorphism with Functions & Objects"
   ]
  },
  {
   "cell_type": "code",
   "execution_count": 1,
   "metadata": {},
   "outputs": [
    {
     "name": "stdout",
     "output_type": "stream",
     "text": [
      "The Area of rectangle is : 6\n",
      "The Area of Square is :  4\n"
     ]
    }
   ],
   "source": [
    "class Rectangle:\n",
    "    def __init__(self,length,breadth):\n",
    "        self.length=length\n",
    "        self.breadth=breadth\n",
    "\n",
    "    def cal_area(self):\n",
    "        return (self.length*self.breadth)\n",
    "\n",
    "class Square:\n",
    "    def __init__(self,side):\n",
    "        self.side = side\n",
    "        \n",
    "    def cal_area(self):\n",
    "        return(self.side*self.side)\n",
    "\n",
    "def func(obj):\n",
    "    return obj.cal_area()\n",
    "\n",
    "# Instantiating a Class or creating an Object\n",
    "\n",
    "obj_rect = Rectangle(2,3)  # Instance of Class Rectangle\n",
    "obj_squar = Square(2)    # Instance of Class Square\n",
    "\n",
    "\n",
    "print(\"The Area of rectangle is :\",func(obj_rect))\n",
    "print(\"The Area of Square is : \",func(obj_squar))\n"
   ]
  },
  {
   "cell_type": "markdown",
   "metadata": {},
   "source": [
    "#### Method OverLoading in Python:-"
   ]
  },
  {
   "cell_type": "code",
   "execution_count": 1,
   "metadata": {},
   "outputs": [
    {
     "name": "stdout",
     "output_type": "stream",
     "text": [
      "Area is : 0\n",
      "Area of Square is : 16\n",
      "Area of Rectangle is : 8\n"
     ]
    }
   ],
   "source": [
    "# Let's create the same example to calculate area of Rectangle or Square\n",
    "\n",
    "\n",
    "class FindArea:\n",
    "    def cal_area(self,length=None,breadth=None):\n",
    "        self.length=length\n",
    "        self.breadth=breadth\n",
    "        if self.length !=None and self.breadth!=None:\n",
    "            return(self.length*self.breadth)\n",
    "        elif self.length !=None:\n",
    "            return(self.length*self.length)\n",
    "        else:\n",
    "            return 0\n",
    "      \n",
    "\n",
    "obj_area = FindArea()\n",
    "\n",
    "print(\"Area is :\",obj_area.cal_area())\n",
    "print(\"Area of Square is :\",obj_area.cal_area(4))\n",
    "print(\"Area of Rectangle is :\",obj_area.cal_area(2,4))\n"
   ]
  },
  {
   "cell_type": "markdown",
   "metadata": {},
   "source": [
    "#### Polymorphism with Inheritance- Also Known as Overriding"
   ]
  },
  {
   "cell_type": "code",
   "execution_count": 8,
   "metadata": {},
   "outputs": [
    {
     "name": "stdout",
     "output_type": "stream",
     "text": [
      "This is a student function of Class Student_2\n",
      "This is a student function of:Class Student_1\n",
      "This is the student function of Class- School\n"
     ]
    }
   ],
   "source": [
    "class School: # Main Class\n",
    "    def students_all(self): \n",
    "        print(\"There are many Students in Class\")\n",
    "    def student(self):\n",
    "        print(\"This is the student function of Class- School\")\n",
    "        \n",
    "class Student_1(School): # Student1 Sub Class of School\n",
    "    def student(self):\n",
    "        print( \"This is a student function of:Class Student_1\")\n",
    "\n",
    "    \n",
    "class Student_2(School): # Student2 Sub Class of School\n",
    "    def student(self):\n",
    "        print(\"This is a student function of Class Student_2\")\n",
    "  \n",
    "    \n",
    "obj_student_2 = Student_2() \n",
    "\n",
    "# Calling student() from it's own class object(obj_student_1 ) will first check if the the method is available in it's own Class\n",
    "obj_student_2.student()  \n",
    "\n",
    "\n",
    "obj_student_1 = Student_1()\n",
    "obj_student_1.student()\n",
    "\n",
    "obj_student = School()\n",
    "obj_student.student()\n",
    "        "
   ]
  },
  {
   "cell_type": "code",
   "execution_count": 4,
   "metadata": {},
   "outputs": [
    {
     "name": "stdout",
     "output_type": "stream",
     "text": [
      "The Area of Square is : 16\n",
      "The Area of Rectangle is : 8\n"
     ]
    }
   ],
   "source": [
    "class Rectangle:  # This is the Super Class or Main Class\n",
    "    def cal_area(self,length,breadth):\n",
    "        self.length=length\n",
    "        self.breadth=breadth\n",
    "        return (self.length*self.breadth)\n",
    "\n",
    "class Square(Rectangle): # This is the Subclass which is inheriting from the Main Class Rectangle\n",
    "    def cal_area(self,side):\n",
    "        self.side=side\n",
    "        return(self.side*self.side)\n",
    "\n",
    "# The instance of the Square Class is stored in obj_squa, i.e why the Area function of Square Class is \n",
    "# calculated\n",
    "obj_squa = Square()\n",
    "obj_squa.cal_area(4)\n",
    "print(\"The Area of Square is :\",obj_squa.cal_area(4))\n",
    "\n",
    "# The instance of the Rectangle Class is stored in obj_rect, i.e why the Area function of Rectangle Class is \n",
    "# calculated\n",
    "\n",
    "obj_rect = Rectangle()\n",
    "obj_rect.cal_area(2,4)\n",
    "print(\"The Area of Rectangle is :\",obj_rect.cal_area(2,4))\n",
    "\n"
   ]
  },
  {
   "cell_type": "code",
   "execution_count": null,
   "metadata": {},
   "outputs": [],
   "source": []
  }
 ],
 "metadata": {
  "kernelspec": {
   "display_name": "Python 3",
   "language": "python",
   "name": "python3"
  },
  "language_info": {
   "codemirror_mode": {
    "name": "ipython",
    "version": 3
   },
   "file_extension": ".py",
   "mimetype": "text/x-python",
   "name": "python",
   "nbconvert_exporter": "python",
   "pygments_lexer": "ipython3",
   "version": "3.8.3"
  }
 },
 "nbformat": 4,
 "nbformat_minor": 4
}
