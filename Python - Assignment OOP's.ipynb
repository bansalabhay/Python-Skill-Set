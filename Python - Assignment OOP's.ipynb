{
 "cells": [
  {
   "cell_type": "markdown",
   "metadata": {},
   "source": [
    "#### Question1 :-\n",
    "#### Create an Empty Class\n"
   ]
  },
  {
   "cell_type": "markdown",
   "metadata": {},
   "source": [
    "#### Answer 1:-"
   ]
  },
  {
   "cell_type": "code",
   "execution_count": 43,
   "metadata": {},
   "outputs": [],
   "source": [
    "class Dog:\n",
    "    species = \"Canis familiaris\"  # Indentation is important here\n",
    "    def __init__(self, name, age): \n",
    "        self.name=name\n",
    "        self.age=age\n",
    "\n",
    "buddy = Dog(\"Buddy\", 9)    \n",
    "miles = Dog(\"Miles\", 4)\n",
    "\n"
   ]
  },
  {
   "cell_type": "markdown",
   "metadata": {},
   "source": [
    "#### Question 2:-\n",
    "- Given the Dog class above retrieve the Object and class attributes."
   ]
  },
  {
   "cell_type": "markdown",
   "metadata": {},
   "source": [
    "#### Answer 2:-"
   ]
  },
  {
   "cell_type": "code",
   "execution_count": 5,
   "metadata": {},
   "outputs": [],
   "source": [
    "# Create A Class for reference\n",
    "class Dog:\n",
    "    species = \"Canis familiaris\"\n",
    "    def __init__(self, name, age):\n",
    "        self.name=name\n",
    "        self.age=age\n",
    "        \n",
    "    \n",
    "buddy = Dog(\"Buddy\", 9)\n",
    "miles = Dog(\"Miles\", 4)"
   ]
  },
  {
   "cell_type": "code",
   "execution_count": 10,
   "metadata": {},
   "outputs": [
    {
     "name": "stdout",
     "output_type": "stream",
     "text": [
      "This is an Object Attribute:  Buddy\n",
      "This is an Object Attribute:  9\n",
      "This is an Object Attribute:  Miles\n",
      "This is an Object Attribute:  4\n",
      "This is a Class Attribute:  Canis familiaris\n",
      "This is a Class Attribute:  Canis familiaris\n",
      "Canis familiaris\n"
     ]
    }
   ],
   "source": [
    "#Object Attributes are below:-\n",
    "print(\"This is an Object Attribute: \",buddy.name)\n",
    "print(\"This is an Object Attribute: \",buddy.age)\n",
    "\n",
    "print(\"This is an Object Attribute: \",miles.name)\n",
    "print(\"This is an Object Attribute: \",miles.age)\n",
    "\n",
    "#Class Attributes:-\n",
    "print(\"This is a Class Attribute: \",buddy.species) # Calling by buddy object\n",
    "print(\"This is a Class Attribute: \",miles.species) # Calling by miles object\n",
    "\n",
    "print(Dog.species)# Can also be directly Called by Class Name\n"
   ]
  },
  {
   "cell_type": "markdown",
   "metadata": {},
   "source": [
    "#### Question 3:-\n",
    "- Write a Python class named Circle constructed by a radius and two methods which will compute the area and the perimeter of a \n",
    "circle."
   ]
  },
  {
   "cell_type": "markdown",
   "metadata": {},
   "source": [
    "#### Answer 3:-"
   ]
  },
  {
   "cell_type": "code",
   "execution_count": 20,
   "metadata": {},
   "outputs": [
    {
     "name": "stdout",
     "output_type": "stream",
     "text": [
      "The Area of Circle is : 31.400000000000002\n",
      "The Perimeter of Circle is : 62.800000000000004\n"
     ]
    }
   ],
   "source": [
    "# Area of Circle is PI*r and 2PI*r\n",
    "\n",
    "class Circle:\n",
    "    def area_of_circle(self,radius):\n",
    "        pi= 3.14\n",
    "        self.radius = radius\n",
    "        return pi*self.radius\n",
    "    def peri_of_circle(self,radius):\n",
    "        pi= 3.14\n",
    "        self.radius=radius\n",
    "        return 2*pi*self.radius\n",
    "\n",
    "# Creating Objects\n",
    "obj_1 = Circle() # Creating an Object for Circle Class\n",
    "obj_1.area_of_circle(10)\n",
    "obj_1.peri_of_circle(10)\n",
    "\n",
    "\n",
    "print(\"The Area of Circle is :\",obj_1.area_of_circle(10))\n",
    "print(\"The Perimeter of Circle is :\",obj_1.peri_of_circle(10))\n",
    "\n"
   ]
  },
  {
   "cell_type": "markdown",
   "metadata": {},
   "source": [
    "#### Question 4 :- Write a Python class to reverse a string word by word.\n",
    "- For example:\n",
    "- Input string : 'hello world'\n",
    "- Expected Output : 'world hello'"
   ]
  },
  {
   "cell_type": "code",
   "execution_count": 34,
   "metadata": {},
   "outputs": [
    {
     "name": "stdout",
     "output_type": "stream",
     "text": [
      "Input a String sepearted by Spaces : Hi This is Abhay\n",
      "The reverse String is: Abhay is This Hi\n"
     ]
    }
   ],
   "source": [
    "class Reverse_str:\n",
    "    def rev_word(self,string):\n",
    "        self.string=string\n",
    "        split_str = string.split()\n",
    "        rev_str = split_str[::-1]\n",
    "        return \" \".join(rev_str)\n",
    "\n",
    "string = input(\"Input a String sepearted by Spaces : \")\n",
    "obj_rev = Reverse_str()\n",
    "obj_rev.rev_word(string)\n",
    "print(\"The reverse String is:\",obj_rev.rev_word(string))"
   ]
  },
  {
   "cell_type": "markdown",
   "metadata": {},
   "source": [
    "#### Question 5 :\n",
    "- Create a Student class and initialize it with name and roll number. Make methods to :\n",
    "- i) Display - It should display all information of the student.\n",
    "- ii)setAge - It should assign age to student\n",
    "- iii) setMarks - It should assign marks to the student."
   ]
  },
  {
   "cell_type": "markdown",
   "metadata": {},
   "source": [
    "#### Answer 5:-"
   ]
  },
  {
   "cell_type": "code",
   "execution_count": 38,
   "metadata": {},
   "outputs": [
    {
     "name": "stdout",
     "output_type": "stream",
     "text": [
      "The Information of Student is :  ('Abhay', 1, 34, 95)\n"
     ]
    }
   ],
   "source": [
    "class Student:\n",
    "    def __init__(self,name,roll_number):\n",
    "        self.name=name\n",
    "        self.roll_number=roll_number\n",
    "    def setAge(self,age):\n",
    "        self.age=age\n",
    "    def setMarks(self,marks):\n",
    "        self.marks=marks\n",
    "    def Display(self):\n",
    "        return self.name,self.roll_number,self.age,self.marks\n",
    "\n",
    "obj_1 = Student(\"Abhay\",1) # Initializing by Default using the constructor Name & Roll_Number\n",
    "obj_1.setAge(34) # Setting the age of the Student\n",
    "obj_1.setMarks(95) # Setting the Marks of the Student\n",
    "print(\"The Information of Student is : \",obj_1.Display())\n",
    "\n",
    "    \n",
    "    "
   ]
  },
  {
   "cell_type": "markdown",
   "metadata": {},
   "source": [
    "#### Question 6 :-\n",
    "- Write a Python class named Rectangle constructed by a\n",
    "- length and width and a method which will compute the area\n",
    "- of a rectangle."
   ]
  },
  {
   "cell_type": "markdown",
   "metadata": {},
   "source": [
    "#### Answer 6:-"
   ]
  },
  {
   "cell_type": "code",
   "execution_count": 40,
   "metadata": {},
   "outputs": [
    {
     "name": "stdout",
     "output_type": "stream",
     "text": [
      "Area of Rectangle is :  40\n"
     ]
    }
   ],
   "source": [
    "class Rectangle:\n",
    "    def area_of_rect(self,length,width):\n",
    "        self.length=length\n",
    "        self.width=width\n",
    "        return self.length*self.width\n",
    "    \n",
    "obj_rect = Rectangle()\n",
    "obj_rect.area_of_rect(10,4)\n",
    "print(\"Area of Rectangle is : \",obj_rect.area_of_rect(10,4))"
   ]
  }
 ],
 "metadata": {
  "kernelspec": {
   "display_name": "Python 3",
   "language": "python",
   "name": "python3"
  },
  "language_info": {
   "codemirror_mode": {
    "name": "ipython",
    "version": 3
   },
   "file_extension": ".py",
   "mimetype": "text/x-python",
   "name": "python",
   "nbconvert_exporter": "python",
   "pygments_lexer": "ipython3",
   "version": "3.8.3"
  }
 },
 "nbformat": 4,
 "nbformat_minor": 4
}
