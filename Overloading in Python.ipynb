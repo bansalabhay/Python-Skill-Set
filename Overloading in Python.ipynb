{
 "cells": [
  {
   "cell_type": "markdown",
   "metadata": {},
   "source": [
    "#### Find the addition  of two or three numbers using Method Overloading in Python(in Java's way)"
   ]
  },
  {
   "cell_type": "code",
   "execution_count": 1,
   "metadata": {},
   "outputs": [
    {
     "ename": "TypeError",
     "evalue": "add_num() missing 1 required positional argument: 'c'",
     "output_type": "error",
     "traceback": [
      "\u001b[1;31m---------------------------------------------------------------------------\u001b[0m",
      "\u001b[1;31mTypeError\u001b[0m                                 Traceback (most recent call last)",
      "\u001b[1;32m<ipython-input-1-e1a2cf687bcf>\u001b[0m in \u001b[0;36m<module>\u001b[1;34m\u001b[0m\n\u001b[0;32m     14\u001b[0m \u001b[1;33m\u001b[0m\u001b[0m\n\u001b[0;32m     15\u001b[0m \u001b[0madd_obj1\u001b[0m \u001b[1;33m=\u001b[0m \u001b[0mAdd\u001b[0m\u001b[1;33m(\u001b[0m\u001b[1;33m)\u001b[0m\u001b[1;33m\u001b[0m\u001b[1;33m\u001b[0m\u001b[0m\n\u001b[1;32m---> 16\u001b[1;33m \u001b[0madd_obj1\u001b[0m\u001b[1;33m.\u001b[0m\u001b[0madd_num\u001b[0m\u001b[1;33m(\u001b[0m\u001b[1;36m1\u001b[0m\u001b[1;33m,\u001b[0m\u001b[1;36m2\u001b[0m\u001b[1;33m)\u001b[0m\u001b[1;33m\u001b[0m\u001b[1;33m\u001b[0m\u001b[0m\n\u001b[0m\u001b[0;32m     17\u001b[0m \u001b[1;33m\u001b[0m\u001b[0m\n\u001b[0;32m     18\u001b[0m \u001b[1;31m#Conclusion\u001b[0m\u001b[1;33m\u001b[0m\u001b[1;33m\u001b[0m\u001b[1;33m\u001b[0m\u001b[0m\n",
      "\u001b[1;31mTypeError\u001b[0m: add_num() missing 1 required positional argument: 'c'"
     ]
    }
   ],
   "source": [
    "# Let's test the functionality of Method Overloading\n",
    "# Will create 2 methods of same name in same class accepting different number of arguments\n",
    "class Add:\n",
    "    def add_num(self,a,b):  #first add function\n",
    "        self.a = a\n",
    "        self.b = b\n",
    "        print(\"Addition of 2 Numbers\",a+b)\n",
    "    def add_num(self,a,b,c): #second add function\n",
    "        self.a = a\n",
    "        self.b = b\n",
    "        self.c = c\n",
    "        print(\"Addition of 3 Numbers\",a+b+c)\n",
    "        \n",
    "        \n",
    "add_obj1 = Add()\n",
    "add_obj1.add_num(1,2)\n",
    "\n",
    "#Conclusion\n",
    "# if we pass only 2 arguments  in add function it returns an error as always the last function add would be executed \n",
    "#and the same number of parameters needs to be defined for this."
   ]
  },
  {
   "cell_type": "code",
   "execution_count": 3,
   "metadata": {},
   "outputs": [
    {
     "name": "stdout",
     "output_type": "stream",
     "text": [
      "Addition of 3 Numbers 6\n"
     ]
    }
   ],
   "source": [
    "add_obj1.add_num(1,2,3) # Call Object of same function add_num with 3 parameters - The code is executed fine with no error"
   ]
  },
  {
   "cell_type": "markdown",
   "metadata": {},
   "source": [
    "#### Find the addition of two or three numbers using Method Overloading in Python way:-"
   ]
  },
  {
   "cell_type": "code",
   "execution_count": 4,
   "metadata": {},
   "outputs": [
    {
     "name": "stdout",
     "output_type": "stream",
     "text": [
      "Addition= 5\n",
      "Addition= 9\n"
     ]
    }
   ],
   "source": [
    "# Let's create an example of Method OverLoading for addition of two & 3 numbers\n",
    "\n",
    "class Addition:\n",
    "    def add_num(self,num_1,num_2,num_3=0):\n",
    "        self.num_1 = num_1\n",
    "        self.num_2 = num_2\n",
    "        self.num_3 = num_3\n",
    "        print(\"Addition=\",self.num_1+self.num_2+self.num_3)\n",
    "    \n",
    "\n",
    "obj_add = Addition()\n",
    "\n",
    "obj_add.add_num(2,3) # With Same object and 2 arguments\n",
    "obj_add.add_num(2,3,4) # With Same object and 3 arguments"
   ]
  },
  {
   "cell_type": "markdown",
   "metadata": {},
   "source": [
    "#### Find Area of Rectangle or Square using Method Overloading:-"
   ]
  },
  {
   "cell_type": "code",
   "execution_count": 5,
   "metadata": {},
   "outputs": [
    {
     "name": "stdout",
     "output_type": "stream",
     "text": [
      "Area is : 0\n",
      "Area of Square is : 16\n",
      "Area of Rectangle is : 8\n"
     ]
    }
   ],
   "source": [
    "class FindArea:\n",
    "    def calculate_area(self,length=None,breadth=None):\n",
    "        self.length=length\n",
    "        self.breadth=breadth\n",
    "        if self.length !=None and self.breadth!=None:\n",
    "            return(self.length*self.breadth)\n",
    "        elif self.length !=None:\n",
    "            return(self.length*self.length)\n",
    "        else:\n",
    "            return 0\n",
    "      \n",
    "\n",
    "obj_area = FindArea()\n",
    "\n",
    "print(\"Area is :\",obj_area.calculate_area())\n",
    "print(\"Area of Square is :\",obj_area.calculate_area(4))\n",
    "print(\"Area of Rectangle is :\",obj_area.calculate_area(2,4))"
   ]
  },
  {
   "cell_type": "code",
   "execution_count": null,
   "metadata": {},
   "outputs": [],
   "source": []
  }
 ],
 "metadata": {
  "kernelspec": {
   "display_name": "Python 3",
   "language": "python",
   "name": "python3"
  },
  "language_info": {
   "codemirror_mode": {
    "name": "ipython",
    "version": 3
   },
   "file_extension": ".py",
   "mimetype": "text/x-python",
   "name": "python",
   "nbconvert_exporter": "python",
   "pygments_lexer": "ipython3",
   "version": "3.8.3"
  }
 },
 "nbformat": 4,
 "nbformat_minor": 4
}
