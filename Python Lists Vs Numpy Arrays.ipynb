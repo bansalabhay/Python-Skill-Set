{
 "cells": [
  {
   "cell_type": "markdown",
   "metadata": {},
   "source": [
    "------------------------------------------------------------------------------------------\n",
    "#### In this Notebook Lets' understand in detail why Numpy Arrays  are preferred over Python List :-\n",
    "\n",
    "- In terms of Memory Usage.\n",
    "- In terms of Fast computation.\n",
    "- In terms of Flexibility & Element wise computation.\n",
    "--------------------------------------------------------------------------------------------"
   ]
  },
  {
   "cell_type": "markdown",
   "metadata": {},
   "source": [
    "#### 1.) Memory Consumption in Numpy Array Vs Python Lists:-"
   ]
  },
  {
   "cell_type": "code",
   "execution_count": 1,
   "metadata": {},
   "outputs": [
    {
     "name": "stdout",
     "output_type": "stream",
     "text": [
      "Size in Bytes for Numpy Array of 1000 elements: 4000\n",
      "Size in Bytes for List of 1000 Elements: 48000\n"
     ]
    }
   ],
   "source": [
    "import numpy as np\n",
    "import time\n",
    "import sys\n",
    "\n",
    "# Let's try to create a numpy Array of 1000 elements:-\n",
    "numpy_array = np.arange(1000)\n",
    "#print(numpy_array.itemsize) # Gives the Size of one element\n",
    "#print(numpy_array.size) # Gives the length of the Array\n",
    "print(\"Size in Bytes for Numpy Array of 1000 elements:\",numpy_array.itemsize*numpy_array.size)\n",
    "\n",
    "# Let's try to create a list of 1000 elements :-\n",
    "list = range(1000)\n",
    "\n",
    "#print(sys.getsizeof(list)) # Gives the size of One element of the List\n",
    "#print(len(list))# Gives the length of the List\n",
    "print(\"Size in Bytes for List of 1000 Elements:\",sys.getsizeof(list)*len(list))\n",
    "\n",
    "\n"
   ]
  },
  {
   "cell_type": "markdown",
   "metadata": {},
   "source": [
    "#### 2.) Time comparison between Numpy array and Python lists :-"
   ]
  },
  {
   "cell_type": "code",
   "execution_count": 2,
   "metadata": {},
   "outputs": [
    {
     "name": "stdout",
     "output_type": "stream",
     "text": [
      "Time Required 0.04397273063659668\n"
     ]
    }
   ],
   "source": [
    "import numpy as np\n",
    "import time\n",
    "import sys\n",
    "\n",
    "# Let's declare an array of 1000 items\n",
    "size=100000\n",
    "\n",
    "# Create 2 Lists\n",
    "list1 = range(size)\n",
    "list2 = range(size)\n",
    "\n",
    "#Calculating time for Python List:-\n",
    "start1=time.time()\n",
    "result=[(x+y)for x,y in zip(list1,list2)]\n",
    "print(\"Time Required\",time.time()-start1)"
   ]
  },
  {
   "cell_type": "code",
   "execution_count": 3,
   "metadata": {},
   "outputs": [
    {
     "name": "stdout",
     "output_type": "stream",
     "text": [
      "Time Required to run Numpy Array 0.005995273590087891\n"
     ]
    }
   ],
   "source": [
    "# Create 2 Numpy Arrays\n",
    "arr1= np.arange(size)\n",
    "arr2= np.arange(size)\n",
    "start2=time.time()\n",
    "result = arr1+arr2\n",
    "print(\"Time Required to run Numpy Array\",time.time()-start2)"
   ]
  },
  {
   "cell_type": "markdown",
   "metadata": {},
   "source": [
    "#### 3.) Element wise Computation is quite simple in Numpy whereas in Python List it cannot be done in a single Step"
   ]
  },
  {
   "cell_type": "code",
   "execution_count": 4,
   "metadata": {},
   "outputs": [
    {
     "name": "stdout",
     "output_type": "stream",
     "text": [
      "ADD a1 and a2 elements :  [ 3  6  8 10 12 14]\n",
      "MUL a1 and a2 elements :  [ 2  8 15 24 35 48]\n"
     ]
    }
   ],
   "source": [
    "##Operations on Numpy arrays\n",
    "\n",
    "arr1 = np.array([1,2,3,4,5,6])\n",
    "arr2 = np.array([2,4,5,6,7,8])\n",
    "\n",
    "# Addition of Numpy array is as simple as \n",
    "print(\"ADD a1 and a2 elements : \", arr1+arr2)\n",
    "\n",
    "# Multiplication of Numpy array is a simple as \n",
    "print(\"MUL a1 and a2 elements : \", arr1 * arr2)\n"
   ]
  },
  {
   "cell_type": "code",
   "execution_count": 5,
   "metadata": {},
   "outputs": [
    {
     "name": "stdout",
     "output_type": "stream",
     "text": [
      "ADD a1 and a2 elements :  [1, 2, 3, 4, 5, 6, 2, 4, 5, 6, 7, 8]\n"
     ]
    },
    {
     "ename": "TypeError",
     "evalue": "can't multiply sequence by non-int of type 'list'",
     "output_type": "error",
     "traceback": [
      "\u001b[1;31m---------------------------------------------------------------------------\u001b[0m",
      "\u001b[1;31mTypeError\u001b[0m                                 Traceback (most recent call last)",
      "\u001b[1;32m<ipython-input-5-3ab320f5f3bf>\u001b[0m in \u001b[0;36m<module>\u001b[1;34m\u001b[0m\n\u001b[0;32m      8\u001b[0m \u001b[1;33m\u001b[0m\u001b[0m\n\u001b[0;32m      9\u001b[0m \u001b[1;31m# Multiplication Python List  is not possible simply\u001b[0m\u001b[1;33m\u001b[0m\u001b[1;33m\u001b[0m\u001b[1;33m\u001b[0m\u001b[0m\n\u001b[1;32m---> 10\u001b[1;33m \u001b[0mprint\u001b[0m\u001b[1;33m(\u001b[0m\u001b[1;34m\"MUL a1 and a2 elements : \"\u001b[0m\u001b[1;33m,\u001b[0m \u001b[0mlist1\u001b[0m \u001b[1;33m*\u001b[0m \u001b[0mlist2\u001b[0m\u001b[1;33m)\u001b[0m\u001b[1;33m\u001b[0m\u001b[1;33m\u001b[0m\u001b[0m\n\u001b[0m",
      "\u001b[1;31mTypeError\u001b[0m: can't multiply sequence by non-int of type 'list'"
     ]
    }
   ],
   "source": [
    "##Operations on Python Lists\n",
    "\n",
    "list1 = [1,2,3,4,5,6]\n",
    "list2 = [2,4,5,6,7,8]\n",
    "\n",
    "# Addition of Python List  is not possible simply  \n",
    "print(\"ADD a1 and a2 elements : \", list1+list2)\n",
    "\n",
    "# Multiplication Python List  is not possible simply  \n",
    "print(\"MUL a1 and a2 elements : \", list1 * list2)\n"
   ]
  },
  {
   "cell_type": "code",
   "execution_count": null,
   "metadata": {},
   "outputs": [],
   "source": []
  }
 ],
 "metadata": {
  "kernelspec": {
   "display_name": "Python 3",
   "language": "python",
   "name": "python3"
  },
  "language_info": {
   "codemirror_mode": {
    "name": "ipython",
    "version": 3
   },
   "file_extension": ".py",
   "mimetype": "text/x-python",
   "name": "python",
   "nbconvert_exporter": "python",
   "pygments_lexer": "ipython3",
   "version": "3.8.3"
  }
 },
 "nbformat": 4,
 "nbformat_minor": 4
}
