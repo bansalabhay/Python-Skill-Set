{
 "cells": [
  {
   "cell_type": "markdown",
   "metadata": {},
   "source": [
    "### Question:1\n",
    "- Take two integer values from the user and print greatest among them."
   ]
  },
  {
   "cell_type": "markdown",
   "metadata": {},
   "source": [
    "### Answer 1:-"
   ]
  },
  {
   "cell_type": "code",
   "execution_count": 1,
   "metadata": {},
   "outputs": [
    {
     "name": "stdout",
     "output_type": "stream",
     "text": [
      "Enter Value 1 : 1\n",
      "Enter Value 2: 2\n",
      "The greater value is  2\n"
     ]
    }
   ],
   "source": [
    "value_1 = int(input(\"Enter Value 1 : \"))\n",
    "value_2 = int(input(\"Enter Value 2: \"))\n",
    "\n",
    "if value_1>value_2:\n",
    "    print(\"The greater Value is :\",value_1)\n",
    "elif value_1==value_2:\n",
    "    print(\"Both Values are equal\")\n",
    "else:\n",
    "    print(\"The greater value is \",value_2)\n",
    "        \n",
    "        \n"
   ]
  },
  {
   "cell_type": "markdown",
   "metadata": {},
   "source": [
    "### Question 2:-\n",
    "- Write a program that reads an integer from the user. Then your program should display a message indicating\n",
    "- whether the integer is even or odd."
   ]
  },
  {
   "cell_type": "markdown",
   "metadata": {},
   "source": [
    "### Answer2:-"
   ]
  },
  {
   "cell_type": "code",
   "execution_count": 2,
   "metadata": {},
   "outputs": [
    {
     "name": "stdout",
     "output_type": "stream",
     "text": [
      "Input the Integer Number : 3\n",
      "The number is odd 3\n"
     ]
    }
   ],
   "source": [
    "input_int = int(input(\"Input the Integer Number : \"))\n",
    "if input_int%2==0:\n",
    "    print(\"The number is even\",input_int)\n",
    "else:\n",
    "    print(\"The number is odd\",input_int)"
   ]
  },
  {
   "cell_type": "markdown",
   "metadata": {},
   "source": [
    "### Question 3:-\n",
    "Create a program that reads a letter of the alphabet from the user. If the user enters a, e, i, o or u then your program\n",
    "should display a message indicating that the entered letter is a vowel. If the user enters y then your program should\n",
    "display a message indicating that sometimes y is a vowel, and sometimes y is a consonant. Otherwise your program\n",
    "should display a message indicating that the letter is a consonant"
   ]
  },
  {
   "cell_type": "code",
   "execution_count": 3,
   "metadata": {},
   "outputs": [
    {
     "name": "stdout",
     "output_type": "stream",
     "text": [
      "Enter the Letter of the Alphabet: e\n",
      "The Letter is Vowel\n"
     ]
    }
   ],
   "source": [
    "import random\n",
    "input_letter = input(\"Enter the Letter of the Alphabet: \")\n",
    "\n",
    "if input_letter == \"a\" or input_letter ==\"e\" or input_letter==\"i\" or input_letter==\"o\" or input_letter==\"u\":\n",
    "    print(\"The Letter is Vowel\")\n",
    "elif input_letter == \"y\":\n",
    "    print(random.choice([\"The Letter is Vowel\",\"The Letter is Consonant\"]))\n",
    "else:\n",
    "    print(\"The Letter is consonant\")\n",
    "   "
   ]
  },
  {
   "cell_type": "markdown",
   "metadata": {},
   "source": [
    "### Question 4:-\n",
    "A triangle can be classified based on the lengths of its\n",
    "sides as equilateral, isosceles or scalene. All three sides of an\n",
    "equilateral triangle have the same length. An isosceles\n",
    "triangle has two sides that are the same length, and a third\n",
    "side that is a different length. If all of the sides have different\n",
    "lengths then the triangle is scalene. Write a program that\n",
    "reads the lengths of the three sides of a triangle from the user.\n",
    "Then display a message that states the triangle’s type."
   ]
  },
  {
   "cell_type": "code",
   "execution_count": 4,
   "metadata": {},
   "outputs": [
    {
     "name": "stdout",
     "output_type": "stream",
     "text": [
      "Input Length of 1st side of Triangle : 4\n",
      "Input Length of 2nd side of Triangle : 5\n",
      "Input Legth of 3rd side of Triangle : 6\n",
      "The Triangle is Scalene\n"
     ]
    }
   ],
   "source": [
    "length_1 = float(input(\"Input Length of 1st side of Triangle : \"))\n",
    "length_2 = float(input(\"Input Length of 2nd side of Triangle : \"))\n",
    "length_3 =  float(input(\"Input Legth of 3rd side of Triangle : \"))\n",
    "\n",
    "if length_1==length_2==length_3:\n",
    "    print(\"The Triangle is Equilateral\")\n",
    "elif length_1==length_2 and length_2!=length_3:\n",
    "    print(\"The Triangle is Isosceles\")\n",
    "elif length_1==length_3 and length_1!=length_2:\n",
    "    print(\"The Triangle is Isosceles\")\n",
    "elif length_2==length_3 and length_2!=length_1:\n",
    "    print(\"The Triangle is Isosceles\")\n",
    "else:\n",
    "    print(\"The Triangle is Scalene\")\n",
    "    \n",
    "        \n"
   ]
  },
  {
   "cell_type": "markdown",
   "metadata": {},
   "source": [
    "### Question5:- \n",
    "Write a program that determines the name of a shape from its number of sides. Read the number of sides from theuser and then\n",
    "report the appropriate name as part of a meaningful message. Your program should support shapes with anywhere from 3 up to\n",
    "(and including) 10 sides. If a number of sides outside of this range is entered then your program should display an \n",
    "appropriate error message."
   ]
  },
  {
   "cell_type": "markdown",
   "metadata": {},
   "source": [
    "### Answer 5:-"
   ]
  },
  {
   "cell_type": "code",
   "execution_count": 5,
   "metadata": {},
   "outputs": [
    {
     "name": "stdout",
     "output_type": "stream",
     "text": [
      "range(3, 11)10\n",
      "This is Decagon with sides =  10\n"
     ]
    }
   ],
   "source": [
    "input_num_of_sides = int(input(range(3,11)))\n",
    "\n",
    "if input_num_of_sides not in range(3,11):\n",
    "    print(\"Appropriate Name\")\n",
    "elif input_num_of_sides ==3:\n",
    "    print(\"This is Triangle with sides = \",input_num_of_sides)\n",
    "elif input_num_of_sides ==4:\n",
    "    print(\"This is Square with sides = \",input_num_of_sides)\n",
    "elif input_num_of_sides ==5:\n",
    "    print(\"This is Pentagon with sides = \",input_num_of_sides)\n",
    "elif input_num_of_sides==6:\n",
    "    print(\"This is Hexagon with sides = \",input_num_of_sides)\n",
    "elif input_num_of_sides ==7:\n",
    "    print(\"This is Heptagon with sides = \",input_num_of_sides)\n",
    "elif input_num_of_sides ==8:\n",
    "    print(\"This is Octagon with sides = \",input_num_of_sides)\n",
    "elif input_num_of_sides==9:\n",
    "    print(\"This is Nonagon with sides = \",input_num_of_sides)\n",
    "else:\n",
    "    print(\"This is Decagon with sides = \",input_num_of_sides)\n"
   ]
  },
  {
   "cell_type": "markdown",
   "metadata": {},
   "source": [
    "### Question 6 :-\n",
    "A shop will give a discount of 10% if the cost of the purchased quantity is more than 1000. Ask the user for\n",
    "quantity, suppose, one unit will cost 100. Judge and print total cost for user."
   ]
  },
  {
   "cell_type": "markdown",
   "metadata": {},
   "source": [
    "### Answer 6 :-"
   ]
  },
  {
   "cell_type": "code",
   "execution_count": 7,
   "metadata": {},
   "outputs": [
    {
     "name": "stdout",
     "output_type": "stream",
     "text": [
      "Enter the Purchased Quantity2000\n",
      "200000\n",
      "2000.0\n",
      "Total Cost for User is :  198000.0\n"
     ]
    }
   ],
   "source": [
    "purch_quantity = int(input(\"Enter the Purchased Quantity\"))\n",
    "cost_of_unit = 100\n",
    "total_cost = purch_quantity*cost_of_unit\n",
    "discount = total_cost*.01\n",
    "\n",
    "print(total_cost)  # printing the Total Cost\n",
    "print(discount)    # Printing the Total Discount\n",
    "\n",
    "if purch_quantity >1000:\n",
    "    print(\"Total Cost for User is : \",total_cost-discount)  # If Purchase Quantity >1000 then discount should be deducted\n",
    "else:\n",
    "    print(\"Total Cost for User is : \",total_cost)# If Purchase Quantity >1000 then there should not be any discount\n",
    "    \n"
   ]
  },
  {
   "cell_type": "markdown",
   "metadata": {},
   "source": [
    "### Question 7: -\n",
    "Take input of age of 3 people by user and determine oldest and youngest among them"
   ]
  },
  {
   "cell_type": "markdown",
   "metadata": {},
   "source": [
    "### Answer 7:-"
   ]
  },
  {
   "cell_type": "code",
   "execution_count": 16,
   "metadata": {},
   "outputs": [
    {
     "name": "stdout",
     "output_type": "stream",
     "text": [
      "Enter Age of 1st one: 12\n",
      "Enter Age of 2nd one: 13\n",
      "Enter Age of 3rd one: 14\n",
      "The Oldest person is of age: 14\n",
      "The Youngest person is of age:  12\n"
     ]
    }
   ],
   "source": [
    "# Approach1 : Using the Condition Statement\n",
    "\n",
    "input_age1= int(input(\"Enter Age of 1st one: \")) \n",
    "input_age2= int(input(\"Enter Age of 2nd one: \"))\n",
    "input_age3 =int(input(\"Enter Age of 3rd one: \"))\n",
    "\n",
    "if input_age1>input_age2 and input_age1>input_age3:\n",
    "                print(\"The Oldest person is of age: \",input_age1)\n",
    "elif input_age2>input_age1 and input_age2>input_age3:\n",
    "                print(\"The Oldest person is of age: \",input_age2)\n",
    "else:\n",
    "    print(\"The Oldest person is of age:\",input_age3)\n",
    "        \n",
    "\n",
    "if input_age1<input_age2 and input_age1<input_age3:\n",
    "                print(\"The Youngest person is of age: \",input_age1)\n",
    "elif input_age2<input_age1 and input_age2<input_age3:\n",
    "                print(\"The Youngest person is of age: \",input_age2)\n",
    "else:\n",
    "     print(\"The Youngest person is of age: \",input_age3)\n",
    "\n",
    "\n"
   ]
  },
  {
   "cell_type": "code",
   "execution_count": 9,
   "metadata": {},
   "outputs": [
    {
     "name": "stdout",
     "output_type": "stream",
     "text": [
      "Enter the ages of 3 people seperated by spaces: 12 14 30\n",
      "The oldest one has age 30\n",
      "The youngest one has age 12\n"
     ]
    }
   ],
   "source": [
    "# Approach2 : Using the Function\n",
    "input_ages = input(\"Enter the ages of 3 people seperated by spaces: \")\n",
    "ages = input_ages.split()\n",
    "print(\"The oldest one has age\",max(ages))\n",
    "print(\"The youngest one has age\",min(ages))\n",
    "\n",
    "\n"
   ]
  },
  {
   "cell_type": "code",
   "execution_count": null,
   "metadata": {},
   "outputs": [],
   "source": []
  },
  {
   "cell_type": "markdown",
   "metadata": {},
   "source": [
    "### Question 8:-\n",
    "A company decided to give a bonus of 5% to an employee if his/her year of service is more than 5 years. Ask user for\n",
    "their salary and year of service and print the net bonus amount.\n"
   ]
  },
  {
   "cell_type": "markdown",
   "metadata": {},
   "source": [
    "### Answer 8 :-"
   ]
  },
  {
   "cell_type": "code",
   "execution_count": 10,
   "metadata": {},
   "outputs": [
    {
     "name": "stdout",
     "output_type": "stream",
     "text": [
      "Enter Salary : 10000\n",
      "Enter Years of Service : 6\n",
      "The net Bonus Amount is : 500.0\n"
     ]
    }
   ],
   "source": [
    "input_salary = float(input(\"Enter Salary : \"))\n",
    "input_service = int(input(\"Enter Years of Service : \"))\n",
    "bonus = input_salary * .05\n",
    "\n",
    "if input_service > 5:\n",
    "    print(\"The net Bonus Amount is :\",bonus)\n",
    "else:\n",
    "    print(\"The user is not Eligible for Bonus\")\n",
    "\n"
   ]
  },
  {
   "cell_type": "markdown",
   "metadata": {},
   "source": [
    "### Question 9 :-\n",
    "Write a program to check if a year is leap year or not.If a year is divisible by 4 then it is leap year but if the year is\n",
    "a century year like 2000, 1900, 2100 then it must be divisible by 400."
   ]
  },
  {
   "cell_type": "markdown",
   "metadata": {},
   "source": [
    "### Answer 9 :-"
   ]
  },
  {
   "cell_type": "code",
   "execution_count": 18,
   "metadata": {},
   "outputs": [
    {
     "name": "stdout",
     "output_type": "stream",
     "text": [
      "Input Year & Find out if it is Leap year or not2010\n",
      "This is not a Leap Year :  2010\n"
     ]
    }
   ],
   "source": [
    "# Check if the Program is Leap Year or  not\n",
    "input_year = int(input(\"Input Year & Find out if it is Leap year or not\"))\n",
    "if input_year%400==0:\n",
    "        print(\"The Year is Leap Year: \",input_year)\n",
    "elif input_year%4 ==0:\n",
    "    print(\"The Year is Leap Year: \",input_year)\n",
    "else:\n",
    "    print(\"This is not a Leap Year : \",input_year)"
   ]
  },
  {
   "cell_type": "markdown",
   "metadata": {},
   "source": [
    "### Question 10:\n",
    " Accept d1 and d2 as input. First, check to see that they\n",
    "are in the proper range for dice. If not, print a message.\n",
    "Otherwise, determine the outcome if this is the come out roll.\n",
    "If the sum is 7 or 11, print the winner. If the sum is 2, 3 or\n",
    "12, print loser. Otherwise print the point"
   ]
  },
  {
   "cell_type": "markdown",
   "metadata": {},
   "source": [
    "### Answer 10:-"
   ]
  },
  {
   "cell_type": "code",
   "execution_count": 12,
   "metadata": {},
   "outputs": [
    {
     "name": "stdout",
     "output_type": "stream",
     "text": [
      "range(0, 7)4\n",
      "range(0, 7)4\n",
      "You are the Loser 8\n"
     ]
    }
   ],
   "source": [
    "d1 = int(input(range(0,7)))\n",
    "d2 = int(input(range(0,7)))\n",
    "sum = d1+d2\n",
    "\n",
    "if d1 not in range(0,7) or d2 not in range(0,7): # To check if it is Proper Range of Dice or not\n",
    "    print(\"The range is not Proper\")\n",
    "elif sum==7 or sum==11:\n",
    "    print(\"You are the Winner:\",sum)\n",
    "else:\n",
    "    print(\"You are the Loser\",sum)\n",
    "\n"
   ]
  },
  {
   "cell_type": "markdown",
   "metadata": {},
   "source": [
    "### Question 11:-\n",
    "Write a python program to display the number of days in a month name from the given list of months or month\n",
    "number entered by user.\n"
   ]
  },
  {
   "cell_type": "markdown",
   "metadata": {},
   "source": [
    "### Answer 11:-"
   ]
  },
  {
   "cell_type": "code",
   "execution_count": 13,
   "metadata": {},
   "outputs": [
    {
     "name": "stdout",
     "output_type": "stream",
     "text": [
      "Enter the Month to find Number of DaysJuly\n",
      "The Numbers of Days is 31 in Month :  July\n"
     ]
    }
   ],
   "source": [
    "input_month = input(\"Enter the Month to find Number of Days\") #Take Input from user\n",
    "\n",
    "month_31_days = (\"January\",\"March\",\"May\",\"July\",\"August\",\"October\",\"December\") # Store the Month in a Tuple\n",
    "\n",
    "if input_month in month_31_days:  # using In Condition check if the Month is out of these\n",
    "    print(\"The Numbers of Days is 31 in Month : \",input_month)\n",
    "elif input_month==\"February\":\n",
    "    print(\"The Number of Days is 28 in Month : \",input_month)\n",
    "else:\n",
    "    print(\"The Number of Days is 30 in Month: \",input_month)\n"
   ]
  },
  {
   "cell_type": "markdown",
   "metadata": {},
   "source": [
    "### Question 12:- \n",
    "Write a Python program to get next day of a given date"
   ]
  },
  {
   "cell_type": "markdown",
   "metadata": {},
   "source": [
    "### Answer 12 :- "
   ]
  },
  {
   "cell_type": "code",
   "execution_count": 8,
   "metadata": {},
   "outputs": [
    {
     "name": "stdout",
     "output_type": "stream",
     "text": [
      "Enter the Day : 31\n",
      "Enter the Month: 12\n",
      "Enter the Year: 1985\n",
      "The next Day is: 1 . 1 . 1986\n"
     ]
    }
   ],
   "source": [
    "day = int(input(\"Enter the Day : \"))\n",
    "month = int(input(\"Enter the Month: \"))\n",
    "year = int(input(\"Enter the Year: \"))\n",
    "month_31days =[1,3,5,7,8,10,12]\n",
    "month_30days =[4,6,9,11]\n",
    "\n",
    "# If Month is 12 i.e Dec then always the number of days would be 31\n",
    "if month in month_31days and month==12 and day==31:\n",
    "    day=1\n",
    "    month=1\n",
    "    year = year+1\n",
    "    print(\"The next Day is:\",day,\".\",month,\".\",year)\n",
    "    \n",
    "# Range is used so that User doesnot enter eg.32,33 which are Inappropriate\n",
    "\n",
    "elif month in month_31days and day in range(1,32):\n",
    "    day=day+1\n",
    "    print(\"The next Day is:\",day,\".\",month,\".\",year)\n",
    "    \n",
    "elif month in month_30days and day==30:\n",
    "    day=1\n",
    "    month=month+1\n",
    "    print(\"The next Day is:\",day,\".\",month,\".\",year)\n",
    "elif month in month_30days and day in range(1,31):\n",
    "    day=day+1\n",
    "    print(\"The next Day is:\",day,\".\",month,\".\",year)\n",
    "elif month == 2 and year%400==0 and day==29:\n",
    "    day=1\n",
    "    month=month+1\n",
    "    print(\"The next Day is:\",day,\".\",month,\".\",year)\n",
    "elif month ==2 and year%4==0 and  day==29:\n",
    "    day=1\n",
    "    month=month+1\n",
    "    print(\"The next Day is:\",day,\".\",month,\".\",year)\n",
    "elif month ==2 and year%400==0:\n",
    "    day=day+1\n",
    "    print(\"The next Day is:\",day,\".\",month,\".\",year)\n",
    "elif month==2 and year%4==0:\n",
    "    day=day+1\n",
    "elif month==2 and day==28:\n",
    "    day=1\n",
    "    month=month+1\n",
    "    print(\"The next Day is:\",day,\".\",month,\".\",year)\n",
    "elif month==2 and day in range(1,29):\n",
    "    day=day+1\n",
    "    print(\"The next Day is:\",day,\".\",month,\".\",year)\n",
    "else:\n",
    "    print(\"This is Inappropriate Date\")\n",
    "    \n",
    "\n",
    "\n"
   ]
  },
  {
   "cell_type": "code",
   "execution_count": null,
   "metadata": {},
   "outputs": [],
   "source": []
  }
 ],
 "metadata": {
  "kernelspec": {
   "display_name": "Python 3",
   "language": "python",
   "name": "python3"
  },
  "language_info": {
   "codemirror_mode": {
    "name": "ipython",
    "version": 3
   },
   "file_extension": ".py",
   "mimetype": "text/x-python",
   "name": "python",
   "nbconvert_exporter": "python",
   "pygments_lexer": "ipython3",
   "version": "3.8.3"
  }
 },
 "nbformat": 4,
 "nbformat_minor": 4
}
