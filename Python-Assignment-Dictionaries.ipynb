{
 "cells": [
  {
   "cell_type": "markdown",
   "metadata": {},
   "source": [
    "### Question 1 :-"
   ]
  },
  {
   "cell_type": "markdown",
   "metadata": {},
   "source": [
    "### Answer 1:-"
   ]
  },
  {
   "cell_type": "code",
   "execution_count": 1,
   "metadata": {},
   "outputs": [
    {
     "data": {
      "text/plain": [
       "'Mustang'"
      ]
     },
     "execution_count": 1,
     "metadata": {},
     "output_type": "execute_result"
    }
   ],
   "source": [
    "car = {\"brand\":\"Ford\",\"model\":\"Mustang\",\"year\":\"1964\"}\n",
    "car[\"model\"]  #Print the value of the \"model\" key of the car dictionary."
   ]
  },
  {
   "cell_type": "markdown",
   "metadata": {},
   "source": [
    "### Answer 2:-"
   ]
  },
  {
   "cell_type": "code",
   "execution_count": 2,
   "metadata": {},
   "outputs": [],
   "source": [
    "car[\"year\"]=2020 #Change the \"year\" value from 1964 to 2020."
   ]
  },
  {
   "cell_type": "code",
   "execution_count": 3,
   "metadata": {},
   "outputs": [
    {
     "data": {
      "text/plain": [
       "{'brand': 'Ford', 'model': 'Mustang', 'year': 2020}"
      ]
     },
     "execution_count": 3,
     "metadata": {},
     "output_type": "execute_result"
    }
   ],
   "source": [
    "car  "
   ]
  },
  {
   "cell_type": "markdown",
   "metadata": {},
   "source": [
    "### Answer 3 :-"
   ]
  },
  {
   "cell_type": "code",
   "execution_count": 4,
   "metadata": {},
   "outputs": [
    {
     "data": {
      "text/plain": [
       "{'brand': 'Ford', 'model': 'Mustang', 'year': 2020, 'colour': 'red'}"
      ]
     },
     "execution_count": 4,
     "metadata": {},
     "output_type": "execute_result"
    }
   ],
   "source": [
    "car[\"colour\"]= \"red\"  #Add the key/value pair \"colour”: \"red\" to the car dictionary\n",
    "car"
   ]
  },
  {
   "cell_type": "markdown",
   "metadata": {},
   "source": [
    "### Question:4.\n",
    "- Add a key to inventory called 'pocket' and Set the value of 'pocket' to be a list consisting of the strings 'seashell', 'strange berry', and 'lint'.\n"
   ]
  },
  {
   "cell_type": "code",
   "execution_count": 110,
   "metadata": {},
   "outputs": [
    {
     "name": "stdout",
     "output_type": "stream",
     "text": [
      "{'gold': 500, 'pouch': ['flint', 'twine', 'gemstone'], 'backpack': ['xylophone', 'dagger', 'bedroll', 'bread', 'loaf']}\n"
     ]
    }
   ],
   "source": [
    "#Given a dictionary inventory :\n",
    "inventory = {'gold' : 500, 'pouch' : ['flint', 'twine', 'gemstone'],\n",
    "'backpack' : ['xylophone','dagger', 'bedroll', 'bread', 'loaf']}\n",
    "print(inventory)"
   ]
  },
  {
   "cell_type": "markdown",
   "metadata": {},
   "source": [
    "### Anwer:4\n"
   ]
  },
  {
   "cell_type": "code",
   "execution_count": 111,
   "metadata": {},
   "outputs": [
    {
     "name": "stdout",
     "output_type": "stream",
     "text": [
      "{'gold': 500, 'pouch': ['flint', 'twine', 'gemstone'], 'backpack': ['xylophone', 'dagger', 'bedroll', 'bread', 'loaf'], 'pocket': {'pocket': ['seashell', 'strange', 'berry', 'lint']}}\n"
     ]
    }
   ],
   "source": [
    "inventory[\"pocket\"] = {\"pocket\":[\"seashell\",\"strange\",\"berry\",\"lint\"]}\n",
    "print(inventory)"
   ]
  },
  {
   "cell_type": "markdown",
   "metadata": {},
   "source": [
    "### Question 5:-"
   ]
  },
  {
   "cell_type": "markdown",
   "metadata": {},
   "source": [
    "-Sort the items in the list stored under the 'backpack' key."
   ]
  },
  {
   "cell_type": "markdown",
   "metadata": {},
   "source": [
    "### Answer 5 :-"
   ]
  },
  {
   "cell_type": "code",
   "execution_count": 112,
   "metadata": {},
   "outputs": [
    {
     "name": "stdout",
     "output_type": "stream",
     "text": [
      "The Sorted Data in Inventory is :- {'gold': 500, 'pouch': ['flint', 'twine', 'gemstone'], 'backpack': ['bedroll', 'bread', 'dagger', 'loaf', 'xylophone'], 'pocket': {'pocket': ['seashell', 'strange', 'berry', 'lint']}}\n"
     ]
    }
   ],
   "source": [
    "inventory[\"backpack\"].sort() #With the help of sort function the Item in the dictionary are sorted\n",
    "print(\"The Sorted Data in Inventory is :-\",inventory)\n",
    "\n",
    "\n",
    "\n",
    "\n",
    "\n"
   ]
  },
  {
   "cell_type": "markdown",
   "metadata": {},
   "source": [
    "### Question 6:-\n",
    "- Remove 'dagger' from the list of items stored under the'backpack' key"
   ]
  },
  {
   "cell_type": "markdown",
   "metadata": {},
   "source": [
    "### Answer 6 :-"
   ]
  },
  {
   "cell_type": "code",
   "execution_count": 113,
   "metadata": {},
   "outputs": [
    {
     "name": "stdout",
     "output_type": "stream",
     "text": [
      "{'gold': 500, 'pouch': ['flint', 'twine', 'gemstone'], 'backpack': ['bedroll', 'bread', 'dagger', 'loaf', 'xylophone'], 'pocket': {'pocket': ['seashell', 'strange', 'berry', 'lint']}}\n"
     ]
    }
   ],
   "source": [
    "print(inventory)"
   ]
  },
  {
   "cell_type": "code",
   "execution_count": 114,
   "metadata": {},
   "outputs": [
    {
     "name": "stdout",
     "output_type": "stream",
     "text": [
      "{'gold': 500, 'pouch': ['flint', 'twine', 'gemstone'], 'backpack': ['bedroll', 'bread', 'loaf', 'xylophone'], 'pocket': {'pocket': ['seashell', 'strange', 'berry', 'lint']}}\n"
     ]
    }
   ],
   "source": [
    "inventory[\"backpack\"].remove(\"dagger\")  #Remove function remove the dagger element from the List\n",
    "print(inventory)"
   ]
  },
  {
   "cell_type": "markdown",
   "metadata": {},
   "source": [
    "### Question 7 :-\n",
    "- Add 50 to the number stored under the 'gold' key."
   ]
  },
  {
   "cell_type": "markdown",
   "metadata": {},
   "source": [
    "### Answer 7 :-"
   ]
  },
  {
   "cell_type": "code",
   "execution_count": null,
   "metadata": {},
   "outputs": [],
   "source": [
    "inventory"
   ]
  },
  {
   "cell_type": "code",
   "execution_count": null,
   "metadata": {},
   "outputs": [],
   "source": [
    "inventory.update({\"gold\":50}) # The update statement updates the Value in the dictionary\n",
    "inventory"
   ]
  },
  {
   "cell_type": "markdown",
   "metadata": {},
   "source": [
    "### Question 8:-\n",
    "- Write a Python script to concatenate three dictionaries to create a new one. Make dictionaries yourself."
   ]
  },
  {
   "cell_type": "markdown",
   "metadata": {},
   "source": [
    "### Answer 8 :-"
   ]
  },
  {
   "cell_type": "code",
   "execution_count": 135,
   "metadata": {},
   "outputs": [
    {
     "name": "stdout",
     "output_type": "stream",
     "text": [
      "{'student1': {'name': 'Abhay', 'surname': 'bansal', 'age': 33, 'even': [2, 4, 6, 8], 'odd': [1, 3, 5, 7], 'Tier1': 'TCS', 'Tier2': 'Infosys'}, 'numbers': {'even': [2, 4, 6, 8], 'odd': [1, 3, 5, 7]}, 'companies': {'Tier1': 'TCS', 'Tier2': 'Infosys'}}\n"
     ]
    }
   ],
   "source": [
    "new_concat_dict = {                    # Approach1 - Three dictionaries can be concatenated in this way also\n",
    "    \"student1\" :student1,\n",
    "    \"numbers\"  :numbers,\n",
    "    \"companies\" :companies\n",
    "    \n",
    "}\n",
    "\n",
    "print(new_concat_dict)"
   ]
  },
  {
   "cell_type": "code",
   "execution_count": 133,
   "metadata": {},
   "outputs": [
    {
     "name": "stdout",
     "output_type": "stream",
     "text": [
      "The Concatenated dictionary is : {'name': 'Abhay', 'surname': 'bansal', 'age': 33, 'even': [2, 4, 6, 8], 'odd': [1, 3, 5, 7], 'Tier1': 'TCS', 'Tier2': 'Infosys'}\n"
     ]
    }
   ],
   "source": [
    "student1 = {\"name\":\"Abhay\",\"surname\":\"bansal\",\"age\":33} # Approach 2\n",
    "numbers  = {\"even\":[2,4,6,8],\"odd\":[1,3,5,7]}\n",
    "companies = {\"Tier1\":\"TCS\",\"Tier2\":\"Infosys\"}\n",
    "\n",
    "student1.update(numbers)\n",
    "student1.update(companies)\n",
    "\n",
    "print(\"The Concatenated dictionary is :\" ,student1)"
   ]
  },
  {
   "cell_type": "markdown",
   "metadata": {},
   "source": [
    "### Question 9 :-\n"
   ]
  },
  {
   "cell_type": "markdown",
   "metadata": {},
   "source": [
    "- Write a Python program to sum all the items in a dictionary."
   ]
  },
  {
   "cell_type": "code",
   "execution_count": 31,
   "metadata": {},
   "outputs": [
    {
     "name": "stdout",
     "output_type": "stream",
     "text": [
      "The sum of Values: 100\n"
     ]
    }
   ],
   "source": [
    "numbers_dict = {\"A\" :10,\"B\":20,\"C\":30,\"D\":40}\n",
    "numbers_dict.values()\n",
    "print(\"The sum of Values:\",sum(numbers_dict.values()))\n",
    "    \n",
    "    \n",
    "    \n",
    "    \n"
   ]
  },
  {
   "cell_type": "markdown",
   "metadata": {},
   "source": [
    "### Question 10 :-\n",
    "- Write a Python script to check whether a given key already exists in a dictionary.\n",
    "-d = {'foo': 100, 'bar': 200, 'baz': 300}"
   ]
  },
  {
   "cell_type": "markdown",
   "metadata": {},
   "source": [
    "### Answer 10 :-"
   ]
  },
  {
   "cell_type": "code",
   "execution_count": 32,
   "metadata": {},
   "outputs": [
    {
     "name": "stdout",
     "output_type": "stream",
     "text": [
      "Enter the Key value : foo\n",
      "True\n"
     ]
    }
   ],
   "source": [
    "d = {'foo': 100, 'bar': 200, 'baz': 300}\n",
    "check_key_value = input(\"Enter the Key value : \")\n",
    "\n",
    "print(check_key_value in d) # This function checks whether in dictionary a particular key exist or not\n"
   ]
  },
  {
   "cell_type": "markdown",
   "metadata": {},
   "source": [
    "### Question 11:\n",
    "- What method call will delete the entry whose value is 200?\n"
   ]
  },
  {
   "cell_type": "markdown",
   "metadata": {},
   "source": [
    "### Answer 11 :-"
   ]
  },
  {
   "cell_type": "code",
   "execution_count": 33,
   "metadata": {},
   "outputs": [
    {
     "name": "stdout",
     "output_type": "stream",
     "text": [
      "{'foo': 100, 'bar': 200, 'baz': 300}\n",
      "The list after deletion of item 200\n"
     ]
    }
   ],
   "source": [
    "print(d)\n",
    "print(\"The list after deletion of item\",d.pop(\"bar\"))"
   ]
  },
  {
   "cell_type": "code",
   "execution_count": 34,
   "metadata": {},
   "outputs": [
    {
     "name": "stdout",
     "output_type": "stream",
     "text": [
      "The new List output is  {'foo': 100, 'baz': 300}\n"
     ]
    }
   ],
   "source": [
    "print(\"The new List output is \",d)"
   ]
  },
  {
   "cell_type": "markdown",
   "metadata": {},
   "source": [
    "### Question 12:-\n",
    "-Write a Python program to check multiple keys exists in a dictionary."
   ]
  },
  {
   "cell_type": "markdown",
   "metadata": {},
   "source": [
    "### Answer 12:-"
   ]
  },
  {
   "cell_type": "code",
   "execution_count": 165,
   "metadata": {},
   "outputs": [
    {
     "name": "stdout",
     "output_type": "stream",
     "text": [
      "dict_keys(['foo', 'bar', 'baz'])\n"
     ]
    }
   ],
   "source": [
    "new_dict1 = {'foo': 100, 'bar': 200, 'baz': 300}\n",
    "new_dict_keys=new_dict1.keys() - #Check Sample1 if present or not\n",
    "new_dict_other = {\"foo\",\"days\"}- #Check Sample2 if present or not\n",
    "print(new_dict_keys)     \n"
   ]
  },
  {
   "cell_type": "code",
   "execution_count": 163,
   "metadata": {},
   "outputs": [
    {
     "name": "stdout",
     "output_type": "stream",
     "text": [
      "The elements are present\n"
     ]
    }
   ],
   "source": [
    "if all(key in new_dict1 for key in new_dict_keys): # Use if all(Output when keys are taken from new_dict_keys)\n",
    "    print(\"The elements are present\")\n",
    "else:\n",
    "    print(\"The elements are missing\")"
   ]
  },
  {
   "cell_type": "code",
   "execution_count": 166,
   "metadata": {},
   "outputs": [
    {
     "name": "stdout",
     "output_type": "stream",
     "text": [
      "The keys are missing in the dictionary\n"
     ]
    }
   ],
   "source": [
    "if all(key in new_dict1 for key in new_dict_other): # Use if all(Output when keys are taken from new_dict_other)\n",
    "    print(\"The keys are present in the dictionary\")\n",
    "else:\n",
    "    print(\"The keys are missing in the dictionary\")"
   ]
  },
  {
   "cell_type": "code",
   "execution_count": null,
   "metadata": {},
   "outputs": [],
   "source": []
  }
 ],
 "metadata": {
  "kernelspec": {
   "display_name": "Python 3",
   "language": "python",
   "name": "python3"
  },
  "language_info": {
   "codemirror_mode": {
    "name": "ipython",
    "version": 3
   },
   "file_extension": ".py",
   "mimetype": "text/x-python",
   "name": "python",
   "nbconvert_exporter": "python",
   "pygments_lexer": "ipython3",
   "version": "3.8.3"
  }
 },
 "nbformat": 4,
 "nbformat_minor": 4
}
