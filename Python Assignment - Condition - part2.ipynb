{
 "cells": [
  {
   "cell_type": "code",
   "execution_count": null,
   "metadata": {},
   "outputs": [],
   "source": [
    "date = input(\"Enter Date dd.mm.yyyy : \")\n",
    "split_date = date.split(\".\")\n",
    "day = split_date[0]\n",
    "month = split_date[1]\n",
    "year = split_date[2]\n",
    "month_31_days = [\"January\",\"March\",\"May\",\"July\",\"August\",\"October\",\"December\"]\n",
    "\n",
    "#If Month[Jan,Mar,May,July,Aug,Oct,Dec] means and date is 31 then set date =01 and add one\n",
    "#If Month[Apr,June,Sep,Nov] and date is 30 then set date=01 and add one\n",
    "\n",
    "if month in month_31_days\n",
    "\n"
   ]
  },
  {
   "cell_type": "code",
   "execution_count": 3,
   "metadata": {},
   "outputs": [
    {
     "name": "stdout",
     "output_type": "stream",
     "text": [
      "range(3, 11)10\n",
      "This is Decagon with sides =  10\n"
     ]
    }
   ],
   "source": [
    "input_num_of_sides = int(input(range(3,11)))\n",
    "\n",
    "if input_num_of_sides not in range(3,11):\n",
    "    print(\"Appropriate Name\")\n",
    "elif input_num_of_sides ==3:\n",
    "    print(\"This is Triangle with sides = \",input_num_of_sides)\n",
    "elif input_num_of_sides ==4:\n",
    "    print(\"This is Square with sides = \",input_num_of_sides)\n",
    "elif input_num_of_sides ==5:\n",
    "    print(\"This is Pentagon with sides = \",input_num_of_sides)\n",
    "elif input_num_of_sides==6:\n",
    "    print(\"This is Hexagon with sides = \",input_num_of_sides)\n",
    "elif input_num_of_sides ==7:\n",
    "    print(\"This is Heptagon with sides = \",input_num_of_sides)\n",
    "elif input_num_of_sides ==8:\n",
    "    print(\"This is Octagon with sides = \",input_num_of_sides)\n",
    "elif input_num_of_sides==9:\n",
    "    print(\"This is Nonagon with sides = \",input_num_of_sides)\n",
    "else:\n",
    "    print(\"This is Decagon with sides = \",input_num_of_sides)"
   ]
  },
  {
   "cell_type": "code",
   "execution_count": null,
   "metadata": {},
   "outputs": [],
   "source": []
  },
  {
   "cell_type": "code",
   "execution_count": null,
   "metadata": {},
   "outputs": [],
   "source": []
  },
  {
   "cell_type": "code",
   "execution_count": null,
   "metadata": {},
   "outputs": [],
   "source": []
  }
 ],
 "metadata": {
  "kernelspec": {
   "display_name": "Python 3",
   "language": "python",
   "name": "python3"
  },
  "language_info": {
   "codemirror_mode": {
    "name": "ipython",
    "version": 3
   },
   "file_extension": ".py",
   "mimetype": "text/x-python",
   "name": "python",
   "nbconvert_exporter": "python",
   "pygments_lexer": "ipython3",
   "version": "3.8.3"
  }
 },
 "nbformat": 4,
 "nbformat_minor": 4
}
